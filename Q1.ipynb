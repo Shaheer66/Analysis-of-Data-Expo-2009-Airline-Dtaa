{
 "cells": [
  {
   "cell_type": "markdown",
   "id": "a16364f3",
   "metadata": {},
   "source": [
    "## Q1. "
   ]
  },
  {
   "cell_type": "markdown",
   "id": "1d30039b",
   "metadata": {},
   "source": [
    "Importing necessary libraries"
   ]
  },
  {
   "cell_type": "code",
   "execution_count": 1,
   "id": "871f984b",
   "metadata": {},
   "outputs": [],
   "source": [
    "import numpy as np\n",
    "import pandas as pd\n",
    "import matplotlib.pyplot as plt\n",
    "import seaborn as sns\n",
    "import statistics as st"
   ]
  },
  {
   "cell_type": "markdown",
   "id": "9a2893c9",
   "metadata": {},
   "source": [
    "Opening the datasets"
   ]
  },
  {
   "cell_type": "code",
   "execution_count": 2,
   "id": "449fcc11",
   "metadata": {},
   "outputs": [],
   "source": [
    "d_26 = pd.read_csv(\"2006.csv\")\n",
    "d_27 = pd.read_csv(\"2007.csv\")"
   ]
  },
  {
   "cell_type": "markdown",
   "id": "50986018",
   "metadata": {},
   "source": [
    "Finding Column Names"
   ]
  },
  {
   "cell_type": "code",
   "execution_count": 3,
   "id": "6d69dbf8",
   "metadata": {},
   "outputs": [
    {
     "data": {
      "text/plain": [
       "Index(['Year', 'Month', 'DayofMonth', 'DayOfWeek', 'DepTime', 'CRSDepTime',\n",
       "       'ArrTime', 'CRSArrTime', 'UniqueCarrier', 'FlightNum', 'TailNum',\n",
       "       'ActualElapsedTime', 'CRSElapsedTime', 'AirTime', 'ArrDelay',\n",
       "       'DepDelay', 'Origin', 'Dest', 'Distance', 'TaxiIn', 'TaxiOut',\n",
       "       'Cancelled', 'CancellationCode', 'Diverted', 'CarrierDelay',\n",
       "       'WeatherDelay', 'NASDelay', 'SecurityDelay', 'LateAircraftDelay'],\n",
       "      dtype='object')"
      ]
     },
     "execution_count": 3,
     "metadata": {},
     "output_type": "execute_result"
    }
   ],
   "source": [
    "d_26.columns\n"
   ]
  },
  {
   "cell_type": "markdown",
   "id": "d8ebbcc6",
   "metadata": {},
   "source": [
    "Getting an understanding of the dataset"
   ]
  },
  {
   "cell_type": "code",
   "execution_count": 4,
   "id": "55f730c4",
   "metadata": {},
   "outputs": [
    {
     "data": {
      "text/plain": [
       "<bound method DataFrame.info of          Year  Month  DayofMonth  DayOfWeek  DepTime  CRSDepTime  ArrTime  \\\n",
       "0        2007      1           1          1   1232.0        1225   1341.0   \n",
       "1        2007      1           1          1   1918.0        1905   2043.0   \n",
       "2        2007      1           1          1   2206.0        2130   2334.0   \n",
       "3        2007      1           1          1   1230.0        1200   1356.0   \n",
       "4        2007      1           1          1    831.0         830    957.0   \n",
       "...       ...    ...         ...        ...      ...         ...      ...   \n",
       "7453210  2007     12          15          6   1558.0        1605   1749.0   \n",
       "7453211  2007     12          15          6   1902.0        1851   2110.0   \n",
       "7453212  2007     12          15          6   1024.0        1025   1750.0   \n",
       "7453213  2007     12          15          6   1353.0        1315   1658.0   \n",
       "7453214  2007     12          15          6   1824.0        1800   2001.0   \n",
       "\n",
       "         CRSArrTime UniqueCarrier  FlightNum  ... TaxiIn  TaxiOut  Cancelled  \\\n",
       "0              1340            WN       2891  ...      4       11          0   \n",
       "1              2035            WN        462  ...      5        6          0   \n",
       "2              2300            WN       1229  ...      6        9          0   \n",
       "3              1330            WN       1355  ...      3        8          0   \n",
       "4              1000            WN       2278  ...      3        9          0   \n",
       "...             ...           ...        ...  ...    ...      ...        ...   \n",
       "7453210        1736            DL         58  ...     14       17          0   \n",
       "7453211        2105            DL         59  ...      6       21          0   \n",
       "7453212        1735            DL         61  ...     14       19          0   \n",
       "7453213        1622            DL         62  ...     11       14          0   \n",
       "7453214        1928            DL         63  ...     10       26          0   \n",
       "\n",
       "         CancellationCode  Diverted  CarrierDelay WeatherDelay NASDelay  \\\n",
       "0                     NaN         0             0            0        0   \n",
       "1                     NaN         0             0            0        0   \n",
       "2                     NaN         0             3            0        0   \n",
       "3                     NaN         0            23            0        0   \n",
       "4                     NaN         0             0            0        0   \n",
       "...                   ...       ...           ...          ...      ...   \n",
       "7453210               NaN         0             0            0        0   \n",
       "7453211               NaN         0             0            0        0   \n",
       "7453212               NaN         0             0            0       15   \n",
       "7453213               NaN         0             0            0        0   \n",
       "7453214               NaN         0            24            0        9   \n",
       "\n",
       "         SecurityDelay  LateAircraftDelay  \n",
       "0                    0                  0  \n",
       "1                    0                  0  \n",
       "2                    0                 31  \n",
       "3                    0                  3  \n",
       "4                    0                  0  \n",
       "...                ...                ...  \n",
       "7453210              0                  0  \n",
       "7453211              0                  0  \n",
       "7453212              0                  0  \n",
       "7453213              0                 36  \n",
       "7453214              0                  0  \n",
       "\n",
       "[7453215 rows x 29 columns]>"
      ]
     },
     "execution_count": 4,
     "metadata": {},
     "output_type": "execute_result"
    }
   ],
   "source": [
    "d_27.info"
   ]
  },
  {
   "cell_type": "markdown",
   "id": "a24f3702",
   "metadata": {},
   "source": [
    "Filtering the required columns to answer the question"
   ]
  },
  {
   "cell_type": "code",
   "execution_count": 5,
   "id": "c44394e8",
   "metadata": {},
   "outputs": [],
   "source": [
    "data_26 = d_26[['Year','Month','DayofMonth','DayOfWeek','ArrTime','DepTime','DepDelay','ArrDelay']]\n",
    "data_27 = d_27[['Year','Month','DayofMonth','DayOfWeek','ArrTime','DepTime','DepDelay','ArrDelay']]"
   ]
  },
  {
   "cell_type": "markdown",
   "id": "3e16c68c",
   "metadata": {},
   "source": [
    "Combining the two datasets and getting the first 10 rows"
   ]
  },
  {
   "cell_type": "code",
   "execution_count": 6,
   "id": "73aae013",
   "metadata": {},
   "outputs": [
    {
     "data": {
      "text/html": [
       "<div>\n",
       "<style scoped>\n",
       "    .dataframe tbody tr th:only-of-type {\n",
       "        vertical-align: middle;\n",
       "    }\n",
       "\n",
       "    .dataframe tbody tr th {\n",
       "        vertical-align: top;\n",
       "    }\n",
       "\n",
       "    .dataframe thead th {\n",
       "        text-align: right;\n",
       "    }\n",
       "</style>\n",
       "<table border=\"1\" class=\"dataframe\">\n",
       "  <thead>\n",
       "    <tr style=\"text-align: right;\">\n",
       "      <th></th>\n",
       "      <th>Year</th>\n",
       "      <th>Month</th>\n",
       "      <th>DayofMonth</th>\n",
       "      <th>DayOfWeek</th>\n",
       "      <th>ArrTime</th>\n",
       "      <th>DepTime</th>\n",
       "      <th>DepDelay</th>\n",
       "      <th>ArrDelay</th>\n",
       "    </tr>\n",
       "  </thead>\n",
       "  <tbody>\n",
       "    <tr>\n",
       "      <th>0</th>\n",
       "      <td>2006</td>\n",
       "      <td>1</td>\n",
       "      <td>11</td>\n",
       "      <td>3</td>\n",
       "      <td>1024.0</td>\n",
       "      <td>743.0</td>\n",
       "      <td>-2.0</td>\n",
       "      <td>6.0</td>\n",
       "    </tr>\n",
       "    <tr>\n",
       "      <th>1</th>\n",
       "      <td>2006</td>\n",
       "      <td>1</td>\n",
       "      <td>11</td>\n",
       "      <td>3</td>\n",
       "      <td>1313.0</td>\n",
       "      <td>1053.0</td>\n",
       "      <td>0.0</td>\n",
       "      <td>-5.0</td>\n",
       "    </tr>\n",
       "    <tr>\n",
       "      <th>2</th>\n",
       "      <td>2006</td>\n",
       "      <td>1</td>\n",
       "      <td>11</td>\n",
       "      <td>3</td>\n",
       "      <td>2110.0</td>\n",
       "      <td>1915.0</td>\n",
       "      <td>0.0</td>\n",
       "      <td>-23.0</td>\n",
       "    </tr>\n",
       "    <tr>\n",
       "      <th>3</th>\n",
       "      <td>2006</td>\n",
       "      <td>1</td>\n",
       "      <td>11</td>\n",
       "      <td>3</td>\n",
       "      <td>1925.0</td>\n",
       "      <td>1753.0</td>\n",
       "      <td>-2.0</td>\n",
       "      <td>-8.0</td>\n",
       "    </tr>\n",
       "    <tr>\n",
       "      <th>4</th>\n",
       "      <td>2006</td>\n",
       "      <td>1</td>\n",
       "      <td>11</td>\n",
       "      <td>3</td>\n",
       "      <td>1015.0</td>\n",
       "      <td>824.0</td>\n",
       "      <td>-8.0</td>\n",
       "      <td>0.0</td>\n",
       "    </tr>\n",
       "    <tr>\n",
       "      <th>5</th>\n",
       "      <td>2006</td>\n",
       "      <td>1</td>\n",
       "      <td>11</td>\n",
       "      <td>3</td>\n",
       "      <td>834.0</td>\n",
       "      <td>627.0</td>\n",
       "      <td>-3.0</td>\n",
       "      <td>2.0</td>\n",
       "    </tr>\n",
       "    <tr>\n",
       "      <th>6</th>\n",
       "      <td>2006</td>\n",
       "      <td>1</td>\n",
       "      <td>11</td>\n",
       "      <td>3</td>\n",
       "      <td>1041.0</td>\n",
       "      <td>825.0</td>\n",
       "      <td>5.0</td>\n",
       "      <td>20.0</td>\n",
       "    </tr>\n",
       "    <tr>\n",
       "      <th>7</th>\n",
       "      <td>2006</td>\n",
       "      <td>1</td>\n",
       "      <td>11</td>\n",
       "      <td>3</td>\n",
       "      <td>1155.0</td>\n",
       "      <td>942.0</td>\n",
       "      <td>-3.0</td>\n",
       "      <td>7.0</td>\n",
       "    </tr>\n",
       "    <tr>\n",
       "      <th>8</th>\n",
       "      <td>2006</td>\n",
       "      <td>1</td>\n",
       "      <td>11</td>\n",
       "      <td>3</td>\n",
       "      <td>1438.0</td>\n",
       "      <td>1239.0</td>\n",
       "      <td>-6.0</td>\n",
       "      <td>-7.0</td>\n",
       "    </tr>\n",
       "    <tr>\n",
       "      <th>9</th>\n",
       "      <td>2006</td>\n",
       "      <td>1</td>\n",
       "      <td>11</td>\n",
       "      <td>3</td>\n",
       "      <td>1841.0</td>\n",
       "      <td>1642.0</td>\n",
       "      <td>-3.0</td>\n",
       "      <td>-4.0</td>\n",
       "    </tr>\n",
       "  </tbody>\n",
       "</table>\n",
       "</div>"
      ],
      "text/plain": [
       "   Year  Month  DayofMonth  DayOfWeek  ArrTime  DepTime  DepDelay  ArrDelay\n",
       "0  2006      1          11          3   1024.0    743.0      -2.0       6.0\n",
       "1  2006      1          11          3   1313.0   1053.0       0.0      -5.0\n",
       "2  2006      1          11          3   2110.0   1915.0       0.0     -23.0\n",
       "3  2006      1          11          3   1925.0   1753.0      -2.0      -8.0\n",
       "4  2006      1          11          3   1015.0    824.0      -8.0       0.0\n",
       "5  2006      1          11          3    834.0    627.0      -3.0       2.0\n",
       "6  2006      1          11          3   1041.0    825.0       5.0      20.0\n",
       "7  2006      1          11          3   1155.0    942.0      -3.0       7.0\n",
       "8  2006      1          11          3   1438.0   1239.0      -6.0      -7.0\n",
       "9  2006      1          11          3   1841.0   1642.0      -3.0      -4.0"
      ]
     },
     "execution_count": 6,
     "metadata": {},
     "output_type": "execute_result"
    }
   ],
   "source": [
    "flight_delay = pd.concat([data_26, data_27])\n",
    "flight_delay.head(10)"
   ]
  },
  {
   "cell_type": "markdown",
   "id": "fdcc9622",
   "metadata": {},
   "source": [
    "Transforming the ArrivalTime column into hour format as a new column called 'ArrivalTime'"
   ]
  },
  {
   "cell_type": "code",
   "execution_count": 7,
   "id": "d31c2e6e",
   "metadata": {},
   "outputs": [],
   "source": [
    "flight_delay.insert(loc=6,column='ArrivalTime',\n",
    "          value=flight_delay[['ArrTime']]/100)\n"
   ]
  },
  {
   "cell_type": "markdown",
   "id": "41c5a8a8",
   "metadata": {},
   "source": [
    "Removing the 'ArrTime'column as we have the transformed version of it as another column"
   ]
  },
  {
   "cell_type": "code",
   "execution_count": 8,
   "id": "76f77f21",
   "metadata": {},
   "outputs": [],
   "source": [
    "flight_delay.drop('ArrTime',inplace=True,axis=1)"
   ]
  },
  {
   "cell_type": "markdown",
   "id": "93c48e18",
   "metadata": {},
   "source": [
    "Dropping the null values"
   ]
  },
  {
   "cell_type": "code",
   "execution_count": 9,
   "id": "e5d6679e",
   "metadata": {},
   "outputs": [
    {
     "data": {
      "text/plain": [
       "<bound method DataFrame.dropna of          Year  Month  DayofMonth  DayOfWeek  DepTime  ArrivalTime  DepDelay  \\\n",
       "0        2006      1          11          3    743.0        10.24      -2.0   \n",
       "1        2006      1          11          3   1053.0        13.13       0.0   \n",
       "2        2006      1          11          3   1915.0        21.10       0.0   \n",
       "3        2006      1          11          3   1753.0        19.25      -2.0   \n",
       "4        2006      1          11          3    824.0        10.15      -8.0   \n",
       "...       ...    ...         ...        ...      ...          ...       ...   \n",
       "7453210  2007     12          15          6   1558.0        17.49      -7.0   \n",
       "7453211  2007     12          15          6   1902.0        21.10      11.0   \n",
       "7453212  2007     12          15          6   1024.0        17.50      -1.0   \n",
       "7453213  2007     12          15          6   1353.0        16.58      38.0   \n",
       "7453214  2007     12          15          6   1824.0        20.01      24.0   \n",
       "\n",
       "         ArrDelay  \n",
       "0             6.0  \n",
       "1            -5.0  \n",
       "2           -23.0  \n",
       "3            -8.0  \n",
       "4             0.0  \n",
       "...           ...  \n",
       "7453210      13.0  \n",
       "7453211       5.0  \n",
       "7453212      15.0  \n",
       "7453213      36.0  \n",
       "7453214      33.0  \n",
       "\n",
       "[14595137 rows x 8 columns]>"
      ]
     },
     "execution_count": 9,
     "metadata": {},
     "output_type": "execute_result"
    }
   ],
   "source": [
    "flight_delay.dropna"
   ]
  },
  {
   "cell_type": "markdown",
   "id": "bce73d8c",
   "metadata": {},
   "source": [
    "As there are Arrival Times greater than 24.00 which is of no value, filtering only the rows which the Arrival Time is less than 24.00 "
   ]
  },
  {
   "cell_type": "code",
   "execution_count": 10,
   "id": "e386affa",
   "metadata": {},
   "outputs": [],
   "source": [
    "new_flight_delay = flight_delay[(flight_delay['ArrivalTime']<=24.00)]"
   ]
  },
  {
   "cell_type": "markdown",
   "id": "42e4f0cc",
   "metadata": {},
   "source": [
    "## Best time of the day?"
   ]
  },
  {
   "cell_type": "markdown",
   "id": "d51905ba",
   "metadata": {},
   "source": [
    "Filtering Arrival Time and ArrDelay columns"
   ]
  },
  {
   "cell_type": "code",
   "execution_count": 11,
   "id": "360aa115",
   "metadata": {},
   "outputs": [
    {
     "data": {
      "text/html": [
       "<div>\n",
       "<style scoped>\n",
       "    .dataframe tbody tr th:only-of-type {\n",
       "        vertical-align: middle;\n",
       "    }\n",
       "\n",
       "    .dataframe tbody tr th {\n",
       "        vertical-align: top;\n",
       "    }\n",
       "\n",
       "    .dataframe thead th {\n",
       "        text-align: right;\n",
       "    }\n",
       "</style>\n",
       "<table border=\"1\" class=\"dataframe\">\n",
       "  <thead>\n",
       "    <tr style=\"text-align: right;\">\n",
       "      <th></th>\n",
       "      <th>ArrivalTime</th>\n",
       "      <th>ArrDelay</th>\n",
       "    </tr>\n",
       "  </thead>\n",
       "  <tbody>\n",
       "    <tr>\n",
       "      <th>0</th>\n",
       "      <td>10.24</td>\n",
       "      <td>6.0</td>\n",
       "    </tr>\n",
       "    <tr>\n",
       "      <th>1</th>\n",
       "      <td>13.13</td>\n",
       "      <td>-5.0</td>\n",
       "    </tr>\n",
       "    <tr>\n",
       "      <th>2</th>\n",
       "      <td>21.10</td>\n",
       "      <td>-23.0</td>\n",
       "    </tr>\n",
       "    <tr>\n",
       "      <th>3</th>\n",
       "      <td>19.25</td>\n",
       "      <td>-8.0</td>\n",
       "    </tr>\n",
       "    <tr>\n",
       "      <th>4</th>\n",
       "      <td>10.15</td>\n",
       "      <td>0.0</td>\n",
       "    </tr>\n",
       "    <tr>\n",
       "      <th>...</th>\n",
       "      <td>...</td>\n",
       "      <td>...</td>\n",
       "    </tr>\n",
       "    <tr>\n",
       "      <th>7453210</th>\n",
       "      <td>17.49</td>\n",
       "      <td>13.0</td>\n",
       "    </tr>\n",
       "    <tr>\n",
       "      <th>7453211</th>\n",
       "      <td>21.10</td>\n",
       "      <td>5.0</td>\n",
       "    </tr>\n",
       "    <tr>\n",
       "      <th>7453212</th>\n",
       "      <td>17.50</td>\n",
       "      <td>15.0</td>\n",
       "    </tr>\n",
       "    <tr>\n",
       "      <th>7453213</th>\n",
       "      <td>16.58</td>\n",
       "      <td>36.0</td>\n",
       "    </tr>\n",
       "    <tr>\n",
       "      <th>7453214</th>\n",
       "      <td>20.01</td>\n",
       "      <td>33.0</td>\n",
       "    </tr>\n",
       "  </tbody>\n",
       "</table>\n",
       "<p>14275427 rows × 2 columns</p>\n",
       "</div>"
      ],
      "text/plain": [
       "         ArrivalTime  ArrDelay\n",
       "0              10.24       6.0\n",
       "1              13.13      -5.0\n",
       "2              21.10     -23.0\n",
       "3              19.25      -8.0\n",
       "4              10.15       0.0\n",
       "...              ...       ...\n",
       "7453210        17.49      13.0\n",
       "7453211        21.10       5.0\n",
       "7453212        17.50      15.0\n",
       "7453213        16.58      36.0\n",
       "7453214        20.01      33.0\n",
       "\n",
       "[14275427 rows x 2 columns]"
      ]
     },
     "execution_count": 11,
     "metadata": {},
     "output_type": "execute_result"
    }
   ],
   "source": [
    "hour1 = new_flight_delay[['ArrivalTime','ArrDelay']] \n",
    "hour1"
   ]
  },
  {
   "cell_type": "markdown",
   "id": "41b542ea",
   "metadata": {},
   "source": [
    "Understanding the object types"
   ]
  },
  {
   "cell_type": "code",
   "execution_count": 12,
   "id": "be97d74b",
   "metadata": {
    "scrolled": true
   },
   "outputs": [
    {
     "name": "stdout",
     "output_type": "stream",
     "text": [
      "<class 'pandas.core.frame.DataFrame'>\n",
      "Int64Index: 14275427 entries, 0 to 7453214\n",
      "Data columns (total 2 columns):\n",
      " #   Column       Dtype  \n",
      "---  ------       -----  \n",
      " 0   ArrivalTime  float64\n",
      " 1   ArrDelay     float64\n",
      "dtypes: float64(2)\n",
      "memory usage: 326.7 MB\n"
     ]
    }
   ],
   "source": [
    "hour1.info()"
   ]
  },
  {
   "cell_type": "markdown",
   "id": "67f3075a",
   "metadata": {},
   "source": []
  },
  {
   "cell_type": "markdown",
   "id": "3e310b8a",
   "metadata": {},
   "source": [
    "Creating a new column which has transformed the hours of day into four time slot bins."
   ]
  },
  {
   "cell_type": "code",
   "execution_count": 13,
   "id": "8f5daaa4",
   "metadata": {},
   "outputs": [],
   "source": [
    "ArrTimezone = pd.cut(hour1['ArrivalTime'], bins=[0.00,6.00,12.00,18.00,23.59], include_lowest=True, labels=['Early Morning','Morning','Afternoon','Evening'])\n"
   ]
  },
  {
   "cell_type": "code",
   "execution_count": 14,
   "id": "7de37816",
   "metadata": {},
   "outputs": [
    {
     "name": "stderr",
     "output_type": "stream",
     "text": [
      "C:\\Users\\haysh\\AppData\\Local\\Temp\\ipykernel_24756\\2679659137.py:1: SettingWithCopyWarning: \n",
      "A value is trying to be set on a copy of a slice from a DataFrame.\n",
      "Try using .loc[row_indexer,col_indexer] = value instead\n",
      "\n",
      "See the caveats in the documentation: https://pandas.pydata.org/pandas-docs/stable/user_guide/indexing.html#returning-a-view-versus-a-copy\n",
      "  hour1['ArrTimezone'] =ArrTimezone.values\n"
     ]
    }
   ],
   "source": [
    "hour1['ArrTimezone'] =ArrTimezone.values\n",
    "\n",
    "\n"
   ]
  },
  {
   "cell_type": "code",
   "execution_count": 15,
   "id": "924df071",
   "metadata": {},
   "outputs": [
    {
     "data": {
      "text/html": [
       "<div>\n",
       "<style scoped>\n",
       "    .dataframe tbody tr th:only-of-type {\n",
       "        vertical-align: middle;\n",
       "    }\n",
       "\n",
       "    .dataframe tbody tr th {\n",
       "        vertical-align: top;\n",
       "    }\n",
       "\n",
       "    .dataframe thead th {\n",
       "        text-align: right;\n",
       "    }\n",
       "</style>\n",
       "<table border=\"1\" class=\"dataframe\">\n",
       "  <thead>\n",
       "    <tr style=\"text-align: right;\">\n",
       "      <th></th>\n",
       "      <th>ArrivalTime</th>\n",
       "      <th>ArrDelay</th>\n",
       "      <th>ArrTimezone</th>\n",
       "    </tr>\n",
       "  </thead>\n",
       "  <tbody>\n",
       "    <tr>\n",
       "      <th>0</th>\n",
       "      <td>10.24</td>\n",
       "      <td>6.0</td>\n",
       "      <td>Morning</td>\n",
       "    </tr>\n",
       "    <tr>\n",
       "      <th>1</th>\n",
       "      <td>13.13</td>\n",
       "      <td>-5.0</td>\n",
       "      <td>Afternoon</td>\n",
       "    </tr>\n",
       "    <tr>\n",
       "      <th>2</th>\n",
       "      <td>21.10</td>\n",
       "      <td>-23.0</td>\n",
       "      <td>Evening</td>\n",
       "    </tr>\n",
       "    <tr>\n",
       "      <th>3</th>\n",
       "      <td>19.25</td>\n",
       "      <td>-8.0</td>\n",
       "      <td>Evening</td>\n",
       "    </tr>\n",
       "    <tr>\n",
       "      <th>4</th>\n",
       "      <td>10.15</td>\n",
       "      <td>0.0</td>\n",
       "      <td>Morning</td>\n",
       "    </tr>\n",
       "    <tr>\n",
       "      <th>...</th>\n",
       "      <td>...</td>\n",
       "      <td>...</td>\n",
       "      <td>...</td>\n",
       "    </tr>\n",
       "    <tr>\n",
       "      <th>7453210</th>\n",
       "      <td>17.49</td>\n",
       "      <td>13.0</td>\n",
       "      <td>Afternoon</td>\n",
       "    </tr>\n",
       "    <tr>\n",
       "      <th>7453211</th>\n",
       "      <td>21.10</td>\n",
       "      <td>5.0</td>\n",
       "      <td>Evening</td>\n",
       "    </tr>\n",
       "    <tr>\n",
       "      <th>7453212</th>\n",
       "      <td>17.50</td>\n",
       "      <td>15.0</td>\n",
       "      <td>Afternoon</td>\n",
       "    </tr>\n",
       "    <tr>\n",
       "      <th>7453213</th>\n",
       "      <td>16.58</td>\n",
       "      <td>36.0</td>\n",
       "      <td>Afternoon</td>\n",
       "    </tr>\n",
       "    <tr>\n",
       "      <th>7453214</th>\n",
       "      <td>20.01</td>\n",
       "      <td>33.0</td>\n",
       "      <td>Evening</td>\n",
       "    </tr>\n",
       "  </tbody>\n",
       "</table>\n",
       "<p>14275427 rows × 3 columns</p>\n",
       "</div>"
      ],
      "text/plain": [
       "         ArrivalTime  ArrDelay ArrTimezone\n",
       "0              10.24       6.0     Morning\n",
       "1              13.13      -5.0   Afternoon\n",
       "2              21.10     -23.0     Evening\n",
       "3              19.25      -8.0     Evening\n",
       "4              10.15       0.0     Morning\n",
       "...              ...       ...         ...\n",
       "7453210        17.49      13.0   Afternoon\n",
       "7453211        21.10       5.0     Evening\n",
       "7453212        17.50      15.0   Afternoon\n",
       "7453213        16.58      36.0   Afternoon\n",
       "7453214        20.01      33.0     Evening\n",
       "\n",
       "[14275427 rows x 3 columns]"
      ]
     },
     "execution_count": 15,
     "metadata": {},
     "output_type": "execute_result"
    }
   ],
   "source": [
    "hour1\n"
   ]
  },
  {
   "cell_type": "markdown",
   "id": "f2b7baf7",
   "metadata": {},
   "source": [
    "Filtering the required columns"
   ]
  },
  {
   "cell_type": "code",
   "execution_count": 16,
   "id": "38b9c74b",
   "metadata": {},
   "outputs": [
    {
     "data": {
      "text/html": [
       "<div>\n",
       "<style scoped>\n",
       "    .dataframe tbody tr th:only-of-type {\n",
       "        vertical-align: middle;\n",
       "    }\n",
       "\n",
       "    .dataframe tbody tr th {\n",
       "        vertical-align: top;\n",
       "    }\n",
       "\n",
       "    .dataframe thead th {\n",
       "        text-align: right;\n",
       "    }\n",
       "</style>\n",
       "<table border=\"1\" class=\"dataframe\">\n",
       "  <thead>\n",
       "    <tr style=\"text-align: right;\">\n",
       "      <th></th>\n",
       "      <th>ArrDelay</th>\n",
       "      <th>ArrTimezone</th>\n",
       "    </tr>\n",
       "  </thead>\n",
       "  <tbody>\n",
       "    <tr>\n",
       "      <th>0</th>\n",
       "      <td>6.0</td>\n",
       "      <td>Morning</td>\n",
       "    </tr>\n",
       "    <tr>\n",
       "      <th>1</th>\n",
       "      <td>-5.0</td>\n",
       "      <td>Afternoon</td>\n",
       "    </tr>\n",
       "    <tr>\n",
       "      <th>2</th>\n",
       "      <td>-23.0</td>\n",
       "      <td>Evening</td>\n",
       "    </tr>\n",
       "    <tr>\n",
       "      <th>3</th>\n",
       "      <td>-8.0</td>\n",
       "      <td>Evening</td>\n",
       "    </tr>\n",
       "    <tr>\n",
       "      <th>4</th>\n",
       "      <td>0.0</td>\n",
       "      <td>Morning</td>\n",
       "    </tr>\n",
       "    <tr>\n",
       "      <th>...</th>\n",
       "      <td>...</td>\n",
       "      <td>...</td>\n",
       "    </tr>\n",
       "    <tr>\n",
       "      <th>7453210</th>\n",
       "      <td>13.0</td>\n",
       "      <td>Afternoon</td>\n",
       "    </tr>\n",
       "    <tr>\n",
       "      <th>7453211</th>\n",
       "      <td>5.0</td>\n",
       "      <td>Evening</td>\n",
       "    </tr>\n",
       "    <tr>\n",
       "      <th>7453212</th>\n",
       "      <td>15.0</td>\n",
       "      <td>Afternoon</td>\n",
       "    </tr>\n",
       "    <tr>\n",
       "      <th>7453213</th>\n",
       "      <td>36.0</td>\n",
       "      <td>Afternoon</td>\n",
       "    </tr>\n",
       "    <tr>\n",
       "      <th>7453214</th>\n",
       "      <td>33.0</td>\n",
       "      <td>Evening</td>\n",
       "    </tr>\n",
       "  </tbody>\n",
       "</table>\n",
       "<p>14275427 rows × 2 columns</p>\n",
       "</div>"
      ],
      "text/plain": [
       "         ArrDelay ArrTimezone\n",
       "0             6.0     Morning\n",
       "1            -5.0   Afternoon\n",
       "2           -23.0     Evening\n",
       "3            -8.0     Evening\n",
       "4             0.0     Morning\n",
       "...           ...         ...\n",
       "7453210      13.0   Afternoon\n",
       "7453211       5.0     Evening\n",
       "7453212      15.0   Afternoon\n",
       "7453213      36.0   Afternoon\n",
       "7453214      33.0     Evening\n",
       "\n",
       "[14275427 rows x 2 columns]"
      ]
     },
     "execution_count": 16,
     "metadata": {},
     "output_type": "execute_result"
    }
   ],
   "source": [
    "a =hour1[['ArrDelay','ArrTimezone']]\n",
    "a"
   ]
  },
  {
   "cell_type": "markdown",
   "id": "cf78ab3d",
   "metadata": {},
   "source": [
    "Grouping the Arrival delays by Timezone bins and obtaining the mean"
   ]
  },
  {
   "cell_type": "code",
   "execution_count": 17,
   "id": "30ff605a",
   "metadata": {},
   "outputs": [],
   "source": [
    "from matplotlib import pyplot\n",
    "import seaborn"
   ]
  },
  {
   "cell_type": "code",
   "execution_count": 18,
   "id": "7d73ec7d",
   "metadata": {
    "scrolled": true
   },
   "outputs": [
    {
     "data": {
      "text/html": [
       "<div>\n",
       "<style scoped>\n",
       "    .dataframe tbody tr th:only-of-type {\n",
       "        vertical-align: middle;\n",
       "    }\n",
       "\n",
       "    .dataframe tbody tr th {\n",
       "        vertical-align: top;\n",
       "    }\n",
       "\n",
       "    .dataframe thead th {\n",
       "        text-align: right;\n",
       "    }\n",
       "</style>\n",
       "<table border=\"1\" class=\"dataframe\">\n",
       "  <thead>\n",
       "    <tr style=\"text-align: right;\">\n",
       "      <th></th>\n",
       "      <th>ArrTimezone</th>\n",
       "      <th>ArrDelay</th>\n",
       "    </tr>\n",
       "  </thead>\n",
       "  <tbody>\n",
       "    <tr>\n",
       "      <th>0</th>\n",
       "      <td>Early Morning</td>\n",
       "      <td>54.174081</td>\n",
       "    </tr>\n",
       "    <tr>\n",
       "      <th>1</th>\n",
       "      <td>Morning</td>\n",
       "      <td>-0.020887</td>\n",
       "    </tr>\n",
       "    <tr>\n",
       "      <th>2</th>\n",
       "      <td>Afternoon</td>\n",
       "      <td>6.710145</td>\n",
       "    </tr>\n",
       "    <tr>\n",
       "      <th>3</th>\n",
       "      <td>Evening</td>\n",
       "      <td>17.089028</td>\n",
       "    </tr>\n",
       "  </tbody>\n",
       "</table>\n",
       "</div>"
      ],
      "text/plain": [
       "     ArrTimezone   ArrDelay\n",
       "0  Early Morning  54.174081\n",
       "1        Morning  -0.020887\n",
       "2      Afternoon   6.710145\n",
       "3        Evening  17.089028"
      ]
     },
     "execution_count": 18,
     "metadata": {},
     "output_type": "execute_result"
    }
   ],
   "source": [
    "a_1= a.groupby(['ArrTimezone'])['ArrDelay'].mean().reset_index()\n",
    "a_1"
   ]
  },
  {
   "cell_type": "code",
   "execution_count": 19,
   "id": "80bd7016",
   "metadata": {},
   "outputs": [
    {
     "data": {
      "text/plain": [
       "<AxesSubplot:ylabel='ArrDelay'>"
      ]
     },
     "execution_count": 19,
     "metadata": {},
     "output_type": "execute_result"
    },
    {
     "data": {
      "image/png": "[encoded data removed]",
      "text/plain": [
       "<Figure size 432x576 with 1 Axes>"
      ]
     },
     "metadata": {
      "needs_background": "light"
     },
     "output_type": "display_data"
    }
   ],
   "source": [
    "fig, ax = pyplot.subplots(figsize =(6,8))\n",
    "sns.boxplot( ax = ax, y = hour1[\"ArrDelay\"] )\n"
   ]
  },
  {
   "cell_type": "markdown",
   "id": "111cfee7",
   "metadata": {},
   "source": [
    "Plotting the findings"
   ]
  },
  {
   "cell_type": "code",
   "execution_count": 20,
   "id": "e941fc46",
   "metadata": {},
   "outputs": [
    {
     "data": {
      "text/html": [
       "<div>\n",
       "<style scoped>\n",
       "    .dataframe tbody tr th:only-of-type {\n",
       "        vertical-align: middle;\n",
       "    }\n",
       "\n",
       "    .dataframe tbody tr th {\n",
       "        vertical-align: top;\n",
       "    }\n",
       "\n",
       "    .dataframe thead th {\n",
       "        text-align: right;\n",
       "    }\n",
       "</style>\n",
       "<table border=\"1\" class=\"dataframe\">\n",
       "  <thead>\n",
       "    <tr style=\"text-align: right;\">\n",
       "      <th></th>\n",
       "      <th>ArrTimezone</th>\n",
       "      <th>ArrDelay</th>\n",
       "    </tr>\n",
       "  </thead>\n",
       "  <tbody>\n",
       "    <tr>\n",
       "      <th>0</th>\n",
       "      <td>Early Morning</td>\n",
       "      <td>20.0</td>\n",
       "    </tr>\n",
       "    <tr>\n",
       "      <th>1</th>\n",
       "      <td>Morning</td>\n",
       "      <td>-4.0</td>\n",
       "    </tr>\n",
       "    <tr>\n",
       "      <th>2</th>\n",
       "      <td>Afternoon</td>\n",
       "      <td>-1.0</td>\n",
       "    </tr>\n",
       "    <tr>\n",
       "      <th>3</th>\n",
       "      <td>Evening</td>\n",
       "      <td>3.0</td>\n",
       "    </tr>\n",
       "  </tbody>\n",
       "</table>\n",
       "</div>"
      ],
      "text/plain": [
       "     ArrTimezone  ArrDelay\n",
       "0  Early Morning      20.0\n",
       "1        Morning      -4.0\n",
       "2      Afternoon      -1.0\n",
       "3        Evening       3.0"
      ]
     },
     "execution_count": 20,
     "metadata": {},
     "output_type": "execute_result"
    }
   ],
   "source": [
    "a_2= a.groupby(['ArrTimezone'])['ArrDelay'].median().reset_index()\n",
    "a_2"
   ]
  },
  {
   "cell_type": "code",
   "execution_count": 21,
   "id": "0d5b4062",
   "metadata": {},
   "outputs": [
    {
     "data": {
      "image/png": "[encoded data removed]",
      "text/plain": [
       "<Figure size 432x288 with 1 Axes>"
      ]
     },
     "metadata": {
      "needs_background": "light"
     },
     "output_type": "display_data"
    }
   ],
   "source": [
    "fig, ax = plt.subplots()\n",
    "rects1 = ax.bar(a_2['ArrTimezone'],a_2['ArrDelay'])\n",
    "ax.set(ylabel = \"Median delay \")\n",
    "ax.set_xlabel('Time Zone')\n",
    "ax.set_title('Median value of Arrival Delays accross TImezones')\n",
    "sns.barplot(x = 'ArrTimezone', y = 'ArrDelay', data =a_1 )\n",
    "# Show the plot\n",
    "plt.show()"
   ]
  },
  {
   "cell_type": "code",
   "execution_count": 22,
   "id": "d63e4eb3",
   "metadata": {},
   "outputs": [
    {
     "data": {
      "image/png": "[encoded data removed]",
      "text/plain": [
       "<Figure size 432x288 with 1 Axes>"
      ]
     },
     "metadata": {
      "needs_background": "light"
     },
     "output_type": "display_data"
    }
   ],
   "source": [
    "fig, ax = plt.subplots()\n",
    "rects1 = ax.bar(a_1['ArrTimezone'],a_1['ArrDelay'])\n",
    "ax.set(ylabel = \"Mean delay \")\n",
    "ax.set_xlabel('Time Zone')\n",
    "ax.set_title('Mean value of Arrival Delays accross TImezones')\n",
    "sns.barplot(x = 'ArrTimezone', y = 'ArrDelay', data =a_1 )\n",
    "# Show the plot\n",
    "plt.show()"
   ]
  },
  {
   "cell_type": "markdown",
   "id": "1b86cf86",
   "metadata": {},
   "source": [
    "According to the diagram, 'Morning' is the best time zone to minimise Arrival Delays"
   ]
  },
  {
   "cell_type": "markdown",
   "id": "df75a615",
   "metadata": {},
   "source": [
    "## Best day of the week?"
   ]
  },
  {
   "cell_type": "markdown",
   "id": "0ef0b246",
   "metadata": {},
   "source": [
    "Filtering ArrDelay, DayofWeek columns"
   ]
  },
  {
   "cell_type": "code",
   "execution_count": 23,
   "id": "bde5cb2a",
   "metadata": {},
   "outputs": [],
   "source": [
    "c =new_flight_delay[['ArrDelay','DayOfWeek']]  "
   ]
  },
  {
   "cell_type": "markdown",
   "id": "3592b545",
   "metadata": {},
   "source": [
    "Grouping the Arrival delays by DayofWeek and obtaining the mean"
   ]
  },
  {
   "cell_type": "code",
   "execution_count": 24,
   "id": "dd11664c",
   "metadata": {},
   "outputs": [
    {
     "data": {
      "text/html": [
       "<div>\n",
       "<style scoped>\n",
       "    .dataframe tbody tr th:only-of-type {\n",
       "        vertical-align: middle;\n",
       "    }\n",
       "\n",
       "    .dataframe tbody tr th {\n",
       "        vertical-align: top;\n",
       "    }\n",
       "\n",
       "    .dataframe thead th {\n",
       "        text-align: right;\n",
       "    }\n",
       "</style>\n",
       "<table border=\"1\" class=\"dataframe\">\n",
       "  <thead>\n",
       "    <tr style=\"text-align: right;\">\n",
       "      <th></th>\n",
       "      <th>DayOfWeek</th>\n",
       "      <th>ArrDelay</th>\n",
       "    </tr>\n",
       "  </thead>\n",
       "  <tbody>\n",
       "    <tr>\n",
       "      <th>0</th>\n",
       "      <td>1</td>\n",
       "      <td>9.677089</td>\n",
       "    </tr>\n",
       "    <tr>\n",
       "      <th>1</th>\n",
       "      <td>2</td>\n",
       "      <td>7.235321</td>\n",
       "    </tr>\n",
       "    <tr>\n",
       "      <th>2</th>\n",
       "      <td>3</td>\n",
       "      <td>8.967936</td>\n",
       "    </tr>\n",
       "    <tr>\n",
       "      <th>3</th>\n",
       "      <td>4</td>\n",
       "      <td>12.113491</td>\n",
       "    </tr>\n",
       "    <tr>\n",
       "      <th>4</th>\n",
       "      <td>5</td>\n",
       "      <td>12.681384</td>\n",
       "    </tr>\n",
       "    <tr>\n",
       "      <th>5</th>\n",
       "      <td>6</td>\n",
       "      <td>5.504282</td>\n",
       "    </tr>\n",
       "    <tr>\n",
       "      <th>6</th>\n",
       "      <td>7</td>\n",
       "      <td>9.220803</td>\n",
       "    </tr>\n",
       "  </tbody>\n",
       "</table>\n",
       "</div>"
      ],
      "text/plain": [
       "   DayOfWeek   ArrDelay\n",
       "0          1   9.677089\n",
       "1          2   7.235321\n",
       "2          3   8.967936\n",
       "3          4  12.113491\n",
       "4          5  12.681384\n",
       "5          6   5.504282\n",
       "6          7   9.220803"
      ]
     },
     "execution_count": 24,
     "metadata": {},
     "output_type": "execute_result"
    }
   ],
   "source": [
    "c_1 =c.groupby(['DayOfWeek'])['ArrDelay'].mean().reset_index()\n",
    "c_1"
   ]
  },
  {
   "cell_type": "code",
   "execution_count": 25,
   "id": "b7dd7f52",
   "metadata": {},
   "outputs": [
    {
     "data": {
      "image/png": "[encoded data removed]",
      "text/plain": [
       "<Figure size 432x288 with 1 Axes>"
      ]
     },
     "metadata": {
      "needs_background": "light"
     },
     "output_type": "display_data"
    }
   ],
   "source": [
    "import matplotlib.pyplot as plt\n",
    "import numpy as np\n",
    "plt.stem(c_1['DayOfWeek'],c_1['ArrDelay'], use_line_collection = True)\n",
    "plt.show()"
   ]
  },
  {
   "cell_type": "code",
   "execution_count": 26,
   "id": "148dfd0d",
   "metadata": {},
   "outputs": [
    {
     "data": {
      "text/html": [
       "<div>\n",
       "<style scoped>\n",
       "    .dataframe tbody tr th:only-of-type {\n",
       "        vertical-align: middle;\n",
       "    }\n",
       "\n",
       "    .dataframe tbody tr th {\n",
       "        vertical-align: top;\n",
       "    }\n",
       "\n",
       "    .dataframe thead th {\n",
       "        text-align: right;\n",
       "    }\n",
       "</style>\n",
       "<table border=\"1\" class=\"dataframe\">\n",
       "  <thead>\n",
       "    <tr style=\"text-align: right;\">\n",
       "      <th></th>\n",
       "      <th>DayOfWeek</th>\n",
       "      <th>ArrDelay</th>\n",
       "    </tr>\n",
       "  </thead>\n",
       "  <tbody>\n",
       "    <tr>\n",
       "      <th>0</th>\n",
       "      <td>1</td>\n",
       "      <td>-1.0</td>\n",
       "    </tr>\n",
       "    <tr>\n",
       "      <th>1</th>\n",
       "      <td>2</td>\n",
       "      <td>-2.0</td>\n",
       "    </tr>\n",
       "    <tr>\n",
       "      <th>2</th>\n",
       "      <td>3</td>\n",
       "      <td>-1.0</td>\n",
       "    </tr>\n",
       "    <tr>\n",
       "      <th>3</th>\n",
       "      <td>4</td>\n",
       "      <td>1.0</td>\n",
       "    </tr>\n",
       "    <tr>\n",
       "      <th>4</th>\n",
       "      <td>5</td>\n",
       "      <td>1.0</td>\n",
       "    </tr>\n",
       "    <tr>\n",
       "      <th>5</th>\n",
       "      <td>6</td>\n",
       "      <td>-3.0</td>\n",
       "    </tr>\n",
       "    <tr>\n",
       "      <th>6</th>\n",
       "      <td>7</td>\n",
       "      <td>-1.0</td>\n",
       "    </tr>\n",
       "  </tbody>\n",
       "</table>\n",
       "</div>"
      ],
      "text/plain": [
       "   DayOfWeek  ArrDelay\n",
       "0          1      -1.0\n",
       "1          2      -2.0\n",
       "2          3      -1.0\n",
       "3          4       1.0\n",
       "4          5       1.0\n",
       "5          6      -3.0\n",
       "6          7      -1.0"
      ]
     },
     "execution_count": 26,
     "metadata": {},
     "output_type": "execute_result"
    }
   ],
   "source": [
    "c_2= c.groupby(['DayOfWeek'])['ArrDelay'].median().reset_index()\n",
    "c_2"
   ]
  },
  {
   "cell_type": "markdown",
   "id": "e80fb8cc",
   "metadata": {},
   "source": [
    "Therefore the best day of week is Saturday"
   ]
  },
  {
   "cell_type": "code",
   "execution_count": 27,
   "id": "03558220",
   "metadata": {},
   "outputs": [
    {
     "data": {
      "image/png": "[encoded data removed]",
      "text/plain": [
       "<Figure size 432x288 with 1 Axes>"
      ]
     },
     "metadata": {
      "needs_background": "light"
     },
     "output_type": "display_data"
    }
   ],
   "source": [
    "import matplotlib.pyplot as plt\n",
    "import numpy as np\n",
    "plt.stem(c_2['DayOfWeek'],c_2['ArrDelay'], use_line_collection = True)\n",
    "plt.show()"
   ]
  },
  {
   "cell_type": "code",
   "execution_count": 28,
   "id": "12ba03df",
   "metadata": {},
   "outputs": [],
   "source": [
    "d =new_flight_delay[['ArrDelay','Month']]  "
   ]
  },
  {
   "cell_type": "code",
   "execution_count": 29,
   "id": "5fd31ecf",
   "metadata": {},
   "outputs": [
    {
     "data": {
      "text/html": [
       "<div>\n",
       "<style scoped>\n",
       "    .dataframe tbody tr th:only-of-type {\n",
       "        vertical-align: middle;\n",
       "    }\n",
       "\n",
       "    .dataframe tbody tr th {\n",
       "        vertical-align: top;\n",
       "    }\n",
       "\n",
       "    .dataframe thead th {\n",
       "        text-align: right;\n",
       "    }\n",
       "</style>\n",
       "<table border=\"1\" class=\"dataframe\">\n",
       "  <thead>\n",
       "    <tr style=\"text-align: right;\">\n",
       "      <th></th>\n",
       "      <th>Month</th>\n",
       "      <th>ArrDelay</th>\n",
       "    </tr>\n",
       "  </thead>\n",
       "  <tbody>\n",
       "    <tr>\n",
       "      <th>0</th>\n",
       "      <td>1</td>\n",
       "      <td>7.430878</td>\n",
       "    </tr>\n",
       "    <tr>\n",
       "      <th>1</th>\n",
       "      <td>2</td>\n",
       "      <td>10.487408</td>\n",
       "    </tr>\n",
       "    <tr>\n",
       "      <th>2</th>\n",
       "      <td>3</td>\n",
       "      <td>9.017843</td>\n",
       "    </tr>\n",
       "    <tr>\n",
       "      <th>3</th>\n",
       "      <td>4</td>\n",
       "      <td>7.478379</td>\n",
       "    </tr>\n",
       "    <tr>\n",
       "      <th>4</th>\n",
       "      <td>5</td>\n",
       "      <td>6.953790</td>\n",
       "    </tr>\n",
       "    <tr>\n",
       "      <th>5</th>\n",
       "      <td>6</td>\n",
       "      <td>14.115177</td>\n",
       "    </tr>\n",
       "    <tr>\n",
       "      <th>6</th>\n",
       "      <td>7</td>\n",
       "      <td>12.706658</td>\n",
       "    </tr>\n",
       "    <tr>\n",
       "      <th>7</th>\n",
       "      <td>8</td>\n",
       "      <td>10.608841</td>\n",
       "    </tr>\n",
       "    <tr>\n",
       "      <th>8</th>\n",
       "      <td>9</td>\n",
       "      <td>5.997944</td>\n",
       "    </tr>\n",
       "    <tr>\n",
       "      <th>9</th>\n",
       "      <td>10</td>\n",
       "      <td>8.536068</td>\n",
       "    </tr>\n",
       "    <tr>\n",
       "      <th>10</th>\n",
       "      <td>11</td>\n",
       "      <td>6.002432</td>\n",
       "    </tr>\n",
       "    <tr>\n",
       "      <th>11</th>\n",
       "      <td>12</td>\n",
       "      <td>13.709167</td>\n",
       "    </tr>\n",
       "  </tbody>\n",
       "</table>\n",
       "</div>"
      ],
      "text/plain": [
       "    Month   ArrDelay\n",
       "0       1   7.430878\n",
       "1       2  10.487408\n",
       "2       3   9.017843\n",
       "3       4   7.478379\n",
       "4       5   6.953790\n",
       "5       6  14.115177\n",
       "6       7  12.706658\n",
       "7       8  10.608841\n",
       "8       9   5.997944\n",
       "9      10   8.536068\n",
       "10     11   6.002432\n",
       "11     12  13.709167"
      ]
     },
     "execution_count": 29,
     "metadata": {},
     "output_type": "execute_result"
    }
   ],
   "source": [
    "d_1 =d.groupby(['Month'])['ArrDelay'].mean().reset_index()\n",
    "d_1"
   ]
  },
  {
   "cell_type": "code",
   "execution_count": 30,
   "id": "5d8ec16a",
   "metadata": {},
   "outputs": [
    {
     "data": {
      "image/png": "[encoded data removed]",
      "text/plain": [
       "<Figure size 432x288 with 1 Axes>"
      ]
     },
     "metadata": {
      "needs_background": "light"
     },
     "output_type": "display_data"
    }
   ],
   "source": [
    "fig, ax = plt.subplots()\n",
    "\n",
    "ax.set(ylabel = \"Mean delay \")\n",
    "ax.set_xlabel('Month')\n",
    "ax.set_title('Mean value of Arrival Delays accross Month')\n",
    "sns.lineplot(x = d_1['Month'],y =d_1['ArrDelay'], data =d_1 )\n",
    "# Show the plot\n",
    "plt.show()"
   ]
  },
  {
   "cell_type": "code",
   "execution_count": 32,
   "id": "b3cc1d59",
   "metadata": {},
   "outputs": [
    {
     "data": {
      "text/html": [
       "<div>\n",
       "<style scoped>\n",
       "    .dataframe tbody tr th:only-of-type {\n",
       "        vertical-align: middle;\n",
       "    }\n",
       "\n",
       "    .dataframe tbody tr th {\n",
       "        vertical-align: top;\n",
       "    }\n",
       "\n",
       "    .dataframe thead th {\n",
       "        text-align: right;\n",
       "    }\n",
       "</style>\n",
       "<table border=\"1\" class=\"dataframe\">\n",
       "  <thead>\n",
       "    <tr style=\"text-align: right;\">\n",
       "      <th></th>\n",
       "      <th>Month</th>\n",
       "      <th>ArrDelay</th>\n",
       "    </tr>\n",
       "  </thead>\n",
       "  <tbody>\n",
       "    <tr>\n",
       "      <th>0</th>\n",
       "      <td>1</td>\n",
       "      <td>-2.0</td>\n",
       "    </tr>\n",
       "    <tr>\n",
       "      <th>1</th>\n",
       "      <td>2</td>\n",
       "      <td>0.0</td>\n",
       "    </tr>\n",
       "    <tr>\n",
       "      <th>2</th>\n",
       "      <td>3</td>\n",
       "      <td>-1.0</td>\n",
       "    </tr>\n",
       "    <tr>\n",
       "      <th>3</th>\n",
       "      <td>4</td>\n",
       "      <td>-1.0</td>\n",
       "    </tr>\n",
       "    <tr>\n",
       "      <th>4</th>\n",
       "      <td>5</td>\n",
       "      <td>-2.0</td>\n",
       "    </tr>\n",
       "    <tr>\n",
       "      <th>5</th>\n",
       "      <td>6</td>\n",
       "      <td>1.0</td>\n",
       "    </tr>\n",
       "    <tr>\n",
       "      <th>6</th>\n",
       "      <td>7</td>\n",
       "      <td>0.0</td>\n",
       "    </tr>\n",
       "    <tr>\n",
       "      <th>7</th>\n",
       "      <td>8</td>\n",
       "      <td>0.0</td>\n",
       "    </tr>\n",
       "    <tr>\n",
       "      <th>8</th>\n",
       "      <td>9</td>\n",
       "      <td>-3.0</td>\n",
       "    </tr>\n",
       "    <tr>\n",
       "      <th>9</th>\n",
       "      <td>10</td>\n",
       "      <td>-1.0</td>\n",
       "    </tr>\n",
       "    <tr>\n",
       "      <th>10</th>\n",
       "      <td>11</td>\n",
       "      <td>-2.0</td>\n",
       "    </tr>\n",
       "    <tr>\n",
       "      <th>11</th>\n",
       "      <td>12</td>\n",
       "      <td>2.0</td>\n",
       "    </tr>\n",
       "  </tbody>\n",
       "</table>\n",
       "</div>"
      ],
      "text/plain": [
       "    Month  ArrDelay\n",
       "0       1      -2.0\n",
       "1       2       0.0\n",
       "2       3      -1.0\n",
       "3       4      -1.0\n",
       "4       5      -2.0\n",
       "5       6       1.0\n",
       "6       7       0.0\n",
       "7       8       0.0\n",
       "8       9      -3.0\n",
       "9      10      -1.0\n",
       "10     11      -2.0\n",
       "11     12       2.0"
      ]
     },
     "execution_count": 32,
     "metadata": {},
     "output_type": "execute_result"
    }
   ],
   "source": [
    "d_2 =d.groupby(['Month'])['ArrDelay'].median().reset_index()\n",
    "d_2"
   ]
  },
  {
   "cell_type": "code",
   "execution_count": 34,
   "id": "8bceb16a",
   "metadata": {},
   "outputs": [
    {
     "data": {
      "image/png": "[encoded data removed]",
      "text/plain": [
       "<Figure size 432x288 with 1 Axes>"
      ]
     },
     "metadata": {
      "needs_background": "light"
     },
     "output_type": "display_data"
    },
    {
     "data": {
      "image/png": "[encoded data removed]",
      "text/plain": [
       "<Figure size 432x288 with 1 Axes>"
      ]
     },
     "metadata": {
      "needs_background": "light"
     },
     "output_type": "display_data"
    }
   ],
   "source": [
    "fig, ax = plt.subplots()\n",
    "\n",
    "ax.set(ylabel = \"Median delay \")\n",
    "ax.set_xlabel('Month')\n",
    "ax.set_title('Median value of Arrival Delays accross Month')\n",
    "sns.lineplot(x = d_2['Month'],y =d_2['ArrDelay'], data =d_1 )\n",
    "# Show the plot\n",
    "plt.show()\n",
    "\n",
    "fig, ax = plt.subplots()\n",
    "\n",
    "ax.set(ylabel = \"Mean delay \")\n",
    "ax.set_xlabel('Month')\n",
    "ax.set_title('Mean value of Arrival Delays accross Month')\n",
    "sns.lineplot(x = d_1['Month'],y =d_1['ArrDelay'], data =d_1 )\n",
    "# Show the plot\n",
    "plt.show()"
   ]
  },
  {
   "cell_type": "code",
   "execution_count": null,
   "id": "7c5501df",
   "metadata": {},
   "outputs": [],
   "source": []
  }
 ],
 "metadata": {
  "kernelspec": {
   "display_name": "Python 3 (ipykernel)",
   "language": "python",
   "name": "python3"
  },
  "language_info": {
   "codemirror_mode": {
    "name": "ipython",
    "version": 3
   },
   "file_extension": ".py",
   "mimetype": "text/x-python",
   "name": "python",
   "nbconvert_exporter": "python",
   "pygments_lexer": "ipython3",
   "version": "3.9.12"
  }
 },
 "nbformat": 4,
 "nbformat_minor": 5
}
