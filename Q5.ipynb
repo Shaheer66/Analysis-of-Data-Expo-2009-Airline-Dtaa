{
 "cells": [
  {
   "cell_type": "markdown",
   "id": "c868024e",
   "metadata": {},
   "source": [
    "Importing the libraries"
   ]
  },
  {
   "cell_type": "code",
   "execution_count": 1,
   "id": "7b4e620e",
   "metadata": {},
   "outputs": [],
   "source": [
    "import pandas as pd\n",
    "import numpy as np\n",
    "from sklearn import preprocessing\n",
    "import matplotlib.pyplot as plt \n",
    "plt.rc(\"font\", size=14)\n",
    "from sklearn.linear_model import LinearRegression\n",
    "from sklearn.model_selection import train_test_split\n",
    "import seaborn as sns\n",
    "from sklearn.metrics import classification_report, confusion_matrix\n",
    "sns.set(style=\"white\")\n",
    "sns.set(style=\"whitegrid\", color_codes=True)"
   ]
  },
  {
   "cell_type": "markdown",
   "id": "1e57b500",
   "metadata": {},
   "source": [
    "Combining the datasets"
   ]
  },
  {
   "cell_type": "code",
   "execution_count": 2,
   "id": "35904d5d",
   "metadata": {},
   "outputs": [],
   "source": [
    "d_26 = pd.read_csv(\"2006.csv\")\n",
    "d_27 = pd.read_csv(\"2007.csv\")"
   ]
  },
  {
   "cell_type": "markdown",
   "id": "1cf178df",
   "metadata": {},
   "source": [
    "Getting an understanding of the dataset"
   ]
  },
  {
   "cell_type": "code",
   "execution_count": 3,
   "id": "a19a06fc",
   "metadata": {
    "scrolled": true
   },
   "outputs": [
    {
     "data": {
      "text/plain": [
       "Index(['Year', 'Month', 'DayofMonth', 'DayOfWeek', 'DepTime', 'CRSDepTime',\n",
       "       'ArrTime', 'CRSArrTime', 'UniqueCarrier', 'FlightNum', 'TailNum',\n",
       "       'ActualElapsedTime', 'CRSElapsedTime', 'AirTime', 'ArrDelay',\n",
       "       'DepDelay', 'Origin', 'Dest', 'Distance', 'TaxiIn', 'TaxiOut',\n",
       "       'Cancelled', 'CancellationCode', 'Diverted', 'CarrierDelay',\n",
       "       'WeatherDelay', 'NASDelay', 'SecurityDelay', 'LateAircraftDelay'],\n",
       "      dtype='object')"
      ]
     },
     "execution_count": 3,
     "metadata": {},
     "output_type": "execute_result"
    }
   ],
   "source": [
    "d_26.columns"
   ]
  },
  {
   "cell_type": "code",
   "execution_count": 4,
   "id": "6a01edae",
   "metadata": {},
   "outputs": [
    {
     "data": {
      "text/plain": [
       "0          ATL\n",
       "1          ATL\n",
       "2          ATL\n",
       "3          AUS\n",
       "4          AUS\n",
       "          ... \n",
       "7141917    ATL\n",
       "7141918    SEA\n",
       "7141919    ATL\n",
       "7141920    SLC\n",
       "7141921    CVG\n",
       "Name: Origin, Length: 7141922, dtype: object"
      ]
     },
     "execution_count": 4,
     "metadata": {},
     "output_type": "execute_result"
    }
   ],
   "source": [
    "d_26['Origin']"
   ]
  },
  {
   "cell_type": "markdown",
   "id": "6d84bd2e",
   "metadata": {},
   "source": [
    "Merging the two datasets"
   ]
  },
  {
   "cell_type": "code",
   "execution_count": 5,
   "id": "3031ad83",
   "metadata": {},
   "outputs": [],
   "source": [
    "flight_delay = pd.concat([d_26, d_27])"
   ]
  },
  {
   "cell_type": "code",
   "execution_count": 6,
   "id": "1c1bc1d4",
   "metadata": {},
   "outputs": [
    {
     "data": {
      "text/html": [
       "<div>\n",
       "<style scoped>\n",
       "    .dataframe tbody tr th:only-of-type {\n",
       "        vertical-align: middle;\n",
       "    }\n",
       "\n",
       "    .dataframe tbody tr th {\n",
       "        vertical-align: top;\n",
       "    }\n",
       "\n",
       "    .dataframe thead th {\n",
       "        text-align: right;\n",
       "    }\n",
       "</style>\n",
       "<table border=\"1\" class=\"dataframe\">\n",
       "  <thead>\n",
       "    <tr style=\"text-align: right;\">\n",
       "      <th></th>\n",
       "      <th>Year</th>\n",
       "      <th>Month</th>\n",
       "      <th>DayofMonth</th>\n",
       "      <th>DayOfWeek</th>\n",
       "      <th>DepTime</th>\n",
       "      <th>CRSDepTime</th>\n",
       "      <th>ArrTime</th>\n",
       "      <th>CRSArrTime</th>\n",
       "      <th>UniqueCarrier</th>\n",
       "      <th>FlightNum</th>\n",
       "      <th>...</th>\n",
       "      <th>TaxiIn</th>\n",
       "      <th>TaxiOut</th>\n",
       "      <th>Cancelled</th>\n",
       "      <th>CancellationCode</th>\n",
       "      <th>Diverted</th>\n",
       "      <th>CarrierDelay</th>\n",
       "      <th>WeatherDelay</th>\n",
       "      <th>NASDelay</th>\n",
       "      <th>SecurityDelay</th>\n",
       "      <th>LateAircraftDelay</th>\n",
       "    </tr>\n",
       "  </thead>\n",
       "  <tbody>\n",
       "    <tr>\n",
       "      <th>0</th>\n",
       "      <td>2006</td>\n",
       "      <td>1</td>\n",
       "      <td>11</td>\n",
       "      <td>3</td>\n",
       "      <td>743.0</td>\n",
       "      <td>745</td>\n",
       "      <td>1024.0</td>\n",
       "      <td>1018</td>\n",
       "      <td>US</td>\n",
       "      <td>343</td>\n",
       "      <td>...</td>\n",
       "      <td>45</td>\n",
       "      <td>13</td>\n",
       "      <td>0</td>\n",
       "      <td>NaN</td>\n",
       "      <td>0</td>\n",
       "      <td>0</td>\n",
       "      <td>0</td>\n",
       "      <td>0</td>\n",
       "      <td>0</td>\n",
       "      <td>0</td>\n",
       "    </tr>\n",
       "    <tr>\n",
       "      <th>1</th>\n",
       "      <td>2006</td>\n",
       "      <td>1</td>\n",
       "      <td>11</td>\n",
       "      <td>3</td>\n",
       "      <td>1053.0</td>\n",
       "      <td>1053</td>\n",
       "      <td>1313.0</td>\n",
       "      <td>1318</td>\n",
       "      <td>US</td>\n",
       "      <td>613</td>\n",
       "      <td>...</td>\n",
       "      <td>27</td>\n",
       "      <td>19</td>\n",
       "      <td>0</td>\n",
       "      <td>NaN</td>\n",
       "      <td>0</td>\n",
       "      <td>0</td>\n",
       "      <td>0</td>\n",
       "      <td>0</td>\n",
       "      <td>0</td>\n",
       "      <td>0</td>\n",
       "    </tr>\n",
       "    <tr>\n",
       "      <th>2</th>\n",
       "      <td>2006</td>\n",
       "      <td>1</td>\n",
       "      <td>11</td>\n",
       "      <td>3</td>\n",
       "      <td>1915.0</td>\n",
       "      <td>1915</td>\n",
       "      <td>2110.0</td>\n",
       "      <td>2133</td>\n",
       "      <td>US</td>\n",
       "      <td>617</td>\n",
       "      <td>...</td>\n",
       "      <td>4</td>\n",
       "      <td>11</td>\n",
       "      <td>0</td>\n",
       "      <td>NaN</td>\n",
       "      <td>0</td>\n",
       "      <td>0</td>\n",
       "      <td>0</td>\n",
       "      <td>0</td>\n",
       "      <td>0</td>\n",
       "      <td>0</td>\n",
       "    </tr>\n",
       "    <tr>\n",
       "      <th>3</th>\n",
       "      <td>2006</td>\n",
       "      <td>1</td>\n",
       "      <td>11</td>\n",
       "      <td>3</td>\n",
       "      <td>1753.0</td>\n",
       "      <td>1755</td>\n",
       "      <td>1925.0</td>\n",
       "      <td>1933</td>\n",
       "      <td>US</td>\n",
       "      <td>300</td>\n",
       "      <td>...</td>\n",
       "      <td>16</td>\n",
       "      <td>10</td>\n",
       "      <td>0</td>\n",
       "      <td>NaN</td>\n",
       "      <td>0</td>\n",
       "      <td>0</td>\n",
       "      <td>0</td>\n",
       "      <td>0</td>\n",
       "      <td>0</td>\n",
       "      <td>0</td>\n",
       "    </tr>\n",
       "    <tr>\n",
       "      <th>4</th>\n",
       "      <td>2006</td>\n",
       "      <td>1</td>\n",
       "      <td>11</td>\n",
       "      <td>3</td>\n",
       "      <td>824.0</td>\n",
       "      <td>832</td>\n",
       "      <td>1015.0</td>\n",
       "      <td>1015</td>\n",
       "      <td>US</td>\n",
       "      <td>765</td>\n",
       "      <td>...</td>\n",
       "      <td>27</td>\n",
       "      <td>12</td>\n",
       "      <td>0</td>\n",
       "      <td>NaN</td>\n",
       "      <td>0</td>\n",
       "      <td>0</td>\n",
       "      <td>0</td>\n",
       "      <td>0</td>\n",
       "      <td>0</td>\n",
       "      <td>0</td>\n",
       "    </tr>\n",
       "    <tr>\n",
       "      <th>...</th>\n",
       "      <td>...</td>\n",
       "      <td>...</td>\n",
       "      <td>...</td>\n",
       "      <td>...</td>\n",
       "      <td>...</td>\n",
       "      <td>...</td>\n",
       "      <td>...</td>\n",
       "      <td>...</td>\n",
       "      <td>...</td>\n",
       "      <td>...</td>\n",
       "      <td>...</td>\n",
       "      <td>...</td>\n",
       "      <td>...</td>\n",
       "      <td>...</td>\n",
       "      <td>...</td>\n",
       "      <td>...</td>\n",
       "      <td>...</td>\n",
       "      <td>...</td>\n",
       "      <td>...</td>\n",
       "      <td>...</td>\n",
       "      <td>...</td>\n",
       "    </tr>\n",
       "    <tr>\n",
       "      <th>7453210</th>\n",
       "      <td>2007</td>\n",
       "      <td>12</td>\n",
       "      <td>15</td>\n",
       "      <td>6</td>\n",
       "      <td>1558.0</td>\n",
       "      <td>1605</td>\n",
       "      <td>1749.0</td>\n",
       "      <td>1736</td>\n",
       "      <td>DL</td>\n",
       "      <td>58</td>\n",
       "      <td>...</td>\n",
       "      <td>14</td>\n",
       "      <td>17</td>\n",
       "      <td>0</td>\n",
       "      <td>NaN</td>\n",
       "      <td>0</td>\n",
       "      <td>0</td>\n",
       "      <td>0</td>\n",
       "      <td>0</td>\n",
       "      <td>0</td>\n",
       "      <td>0</td>\n",
       "    </tr>\n",
       "    <tr>\n",
       "      <th>7453211</th>\n",
       "      <td>2007</td>\n",
       "      <td>12</td>\n",
       "      <td>15</td>\n",
       "      <td>6</td>\n",
       "      <td>1902.0</td>\n",
       "      <td>1851</td>\n",
       "      <td>2110.0</td>\n",
       "      <td>2105</td>\n",
       "      <td>DL</td>\n",
       "      <td>59</td>\n",
       "      <td>...</td>\n",
       "      <td>6</td>\n",
       "      <td>21</td>\n",
       "      <td>0</td>\n",
       "      <td>NaN</td>\n",
       "      <td>0</td>\n",
       "      <td>0</td>\n",
       "      <td>0</td>\n",
       "      <td>0</td>\n",
       "      <td>0</td>\n",
       "      <td>0</td>\n",
       "    </tr>\n",
       "    <tr>\n",
       "      <th>7453212</th>\n",
       "      <td>2007</td>\n",
       "      <td>12</td>\n",
       "      <td>15</td>\n",
       "      <td>6</td>\n",
       "      <td>1024.0</td>\n",
       "      <td>1025</td>\n",
       "      <td>1750.0</td>\n",
       "      <td>1735</td>\n",
       "      <td>DL</td>\n",
       "      <td>61</td>\n",
       "      <td>...</td>\n",
       "      <td>14</td>\n",
       "      <td>19</td>\n",
       "      <td>0</td>\n",
       "      <td>NaN</td>\n",
       "      <td>0</td>\n",
       "      <td>0</td>\n",
       "      <td>0</td>\n",
       "      <td>15</td>\n",
       "      <td>0</td>\n",
       "      <td>0</td>\n",
       "    </tr>\n",
       "    <tr>\n",
       "      <th>7453213</th>\n",
       "      <td>2007</td>\n",
       "      <td>12</td>\n",
       "      <td>15</td>\n",
       "      <td>6</td>\n",
       "      <td>1353.0</td>\n",
       "      <td>1315</td>\n",
       "      <td>1658.0</td>\n",
       "      <td>1622</td>\n",
       "      <td>DL</td>\n",
       "      <td>62</td>\n",
       "      <td>...</td>\n",
       "      <td>11</td>\n",
       "      <td>14</td>\n",
       "      <td>0</td>\n",
       "      <td>NaN</td>\n",
       "      <td>0</td>\n",
       "      <td>0</td>\n",
       "      <td>0</td>\n",
       "      <td>0</td>\n",
       "      <td>0</td>\n",
       "      <td>36</td>\n",
       "    </tr>\n",
       "    <tr>\n",
       "      <th>7453214</th>\n",
       "      <td>2007</td>\n",
       "      <td>12</td>\n",
       "      <td>15</td>\n",
       "      <td>6</td>\n",
       "      <td>1824.0</td>\n",
       "      <td>1800</td>\n",
       "      <td>2001.0</td>\n",
       "      <td>1928</td>\n",
       "      <td>DL</td>\n",
       "      <td>63</td>\n",
       "      <td>...</td>\n",
       "      <td>10</td>\n",
       "      <td>26</td>\n",
       "      <td>0</td>\n",
       "      <td>NaN</td>\n",
       "      <td>0</td>\n",
       "      <td>24</td>\n",
       "      <td>0</td>\n",
       "      <td>9</td>\n",
       "      <td>0</td>\n",
       "      <td>0</td>\n",
       "    </tr>\n",
       "  </tbody>\n",
       "</table>\n",
       "<p>14595137 rows × 29 columns</p>\n",
       "</div>"
      ],
      "text/plain": [
       "         Year  Month  DayofMonth  DayOfWeek  DepTime  CRSDepTime  ArrTime  \\\n",
       "0        2006      1          11          3    743.0         745   1024.0   \n",
       "1        2006      1          11          3   1053.0        1053   1313.0   \n",
       "2        2006      1          11          3   1915.0        1915   2110.0   \n",
       "3        2006      1          11          3   1753.0        1755   1925.0   \n",
       "4        2006      1          11          3    824.0         832   1015.0   \n",
       "...       ...    ...         ...        ...      ...         ...      ...   \n",
       "7453210  2007     12          15          6   1558.0        1605   1749.0   \n",
       "7453211  2007     12          15          6   1902.0        1851   2110.0   \n",
       "7453212  2007     12          15          6   1024.0        1025   1750.0   \n",
       "7453213  2007     12          15          6   1353.0        1315   1658.0   \n",
       "7453214  2007     12          15          6   1824.0        1800   2001.0   \n",
       "\n",
       "         CRSArrTime UniqueCarrier  FlightNum  ... TaxiIn  TaxiOut  Cancelled  \\\n",
       "0              1018            US        343  ...     45       13          0   \n",
       "1              1318            US        613  ...     27       19          0   \n",
       "2              2133            US        617  ...      4       11          0   \n",
       "3              1933            US        300  ...     16       10          0   \n",
       "4              1015            US        765  ...     27       12          0   \n",
       "...             ...           ...        ...  ...    ...      ...        ...   \n",
       "7453210        1736            DL         58  ...     14       17          0   \n",
       "7453211        2105            DL         59  ...      6       21          0   \n",
       "7453212        1735            DL         61  ...     14       19          0   \n",
       "7453213        1622            DL         62  ...     11       14          0   \n",
       "7453214        1928            DL         63  ...     10       26          0   \n",
       "\n",
       "         CancellationCode  Diverted  CarrierDelay WeatherDelay NASDelay  \\\n",
       "0                     NaN         0             0            0        0   \n",
       "1                     NaN         0             0            0        0   \n",
       "2                     NaN         0             0            0        0   \n",
       "3                     NaN         0             0            0        0   \n",
       "4                     NaN         0             0            0        0   \n",
       "...                   ...       ...           ...          ...      ...   \n",
       "7453210               NaN         0             0            0        0   \n",
       "7453211               NaN         0             0            0        0   \n",
       "7453212               NaN         0             0            0       15   \n",
       "7453213               NaN         0             0            0        0   \n",
       "7453214               NaN         0            24            0        9   \n",
       "\n",
       "         SecurityDelay  LateAircraftDelay  \n",
       "0                    0                  0  \n",
       "1                    0                  0  \n",
       "2                    0                  0  \n",
       "3                    0                  0  \n",
       "4                    0                  0  \n",
       "...                ...                ...  \n",
       "7453210              0                  0  \n",
       "7453211              0                  0  \n",
       "7453212              0                  0  \n",
       "7453213              0                 36  \n",
       "7453214              0                  0  \n",
       "\n",
       "[14595137 rows x 29 columns]"
      ]
     },
     "execution_count": 6,
     "metadata": {},
     "output_type": "execute_result"
    }
   ],
   "source": [
    "flight_delay"
   ]
  },
  {
   "cell_type": "markdown",
   "id": "629b6926",
   "metadata": {},
   "source": [
    "Doing the necessary datawrangling steps"
   ]
  },
  {
   "cell_type": "code",
   "execution_count": 7,
   "id": "5fc904dc",
   "metadata": {},
   "outputs": [],
   "source": [
    "flight_delay.insert(loc=6,column='ArrivalTime',\n",
    "          value=flight_delay[['ArrTime']]/100)\n"
   ]
  },
  {
   "cell_type": "code",
   "execution_count": 8,
   "id": "33716a34",
   "metadata": {
    "scrolled": true
   },
   "outputs": [],
   "source": [
    "ArrTimezone = pd.cut(flight_delay['ArrivalTime'], bins=[0.00,6.00,12.00,18.00,23.59], include_lowest=True, labels=['0','1','2','4'])"
   ]
  },
  {
   "cell_type": "code",
   "execution_count": 9,
   "id": "d964b5c3",
   "metadata": {},
   "outputs": [],
   "source": [
    "flight_delay['ArrTimezone'] =ArrTimezone.values"
   ]
  },
  {
   "cell_type": "code",
   "execution_count": 10,
   "id": "3ddb2cb3",
   "metadata": {},
   "outputs": [
    {
     "data": {
      "text/plain": [
       "0          1\n",
       "1          2\n",
       "2          4\n",
       "3          4\n",
       "4          1\n",
       "          ..\n",
       "7453210    2\n",
       "7453211    4\n",
       "7453212    2\n",
       "7453213    2\n",
       "7453214    4\n",
       "Name: ArrTimezone, Length: 14595137, dtype: category\n",
       "Categories (4, object): ['0' < '1' < '2' < '4']"
      ]
     },
     "execution_count": 10,
     "metadata": {},
     "output_type": "execute_result"
    }
   ],
   "source": [
    "flight_delay['ArrTimezone']"
   ]
  },
  {
   "cell_type": "markdown",
   "id": "f0edf966",
   "metadata": {},
   "source": [
    "Dropping Null values"
   ]
  },
  {
   "cell_type": "code",
   "execution_count": 11,
   "id": "93baff88",
   "metadata": {},
   "outputs": [
    {
     "data": {
      "text/plain": [
       "<bound method DataFrame.dropna of          Year  Month  DayofMonth  DayOfWeek  DepTime  CRSDepTime  ArrivalTime  \\\n",
       "0        2006      1          11          3    743.0         745        10.24   \n",
       "1        2006      1          11          3   1053.0        1053        13.13   \n",
       "2        2006      1          11          3   1915.0        1915        21.10   \n",
       "3        2006      1          11          3   1753.0        1755        19.25   \n",
       "4        2006      1          11          3    824.0         832        10.15   \n",
       "...       ...    ...         ...        ...      ...         ...          ...   \n",
       "7453210  2007     12          15          6   1558.0        1605        17.49   \n",
       "7453211  2007     12          15          6   1902.0        1851        21.10   \n",
       "7453212  2007     12          15          6   1024.0        1025        17.50   \n",
       "7453213  2007     12          15          6   1353.0        1315        16.58   \n",
       "7453214  2007     12          15          6   1824.0        1800        20.01   \n",
       "\n",
       "         ArrTime  CRSArrTime UniqueCarrier  ...  TaxiOut Cancelled  \\\n",
       "0         1024.0        1018            US  ...       13         0   \n",
       "1         1313.0        1318            US  ...       19         0   \n",
       "2         2110.0        2133            US  ...       11         0   \n",
       "3         1925.0        1933            US  ...       10         0   \n",
       "4         1015.0        1015            US  ...       12         0   \n",
       "...          ...         ...           ...  ...      ...       ...   \n",
       "7453210   1749.0        1736            DL  ...       17         0   \n",
       "7453211   2110.0        2105            DL  ...       21         0   \n",
       "7453212   1750.0        1735            DL  ...       19         0   \n",
       "7453213   1658.0        1622            DL  ...       14         0   \n",
       "7453214   2001.0        1928            DL  ...       26         0   \n",
       "\n",
       "         CancellationCode  Diverted  CarrierDelay  WeatherDelay  NASDelay  \\\n",
       "0                     NaN         0             0             0         0   \n",
       "1                     NaN         0             0             0         0   \n",
       "2                     NaN         0             0             0         0   \n",
       "3                     NaN         0             0             0         0   \n",
       "4                     NaN         0             0             0         0   \n",
       "...                   ...       ...           ...           ...       ...   \n",
       "7453210               NaN         0             0             0         0   \n",
       "7453211               NaN         0             0             0         0   \n",
       "7453212               NaN         0             0             0        15   \n",
       "7453213               NaN         0             0             0         0   \n",
       "7453214               NaN         0            24             0         9   \n",
       "\n",
       "        SecurityDelay LateAircraftDelay  ArrTimezone  \n",
       "0                   0                 0            1  \n",
       "1                   0                 0            2  \n",
       "2                   0                 0            4  \n",
       "3                   0                 0            4  \n",
       "4                   0                 0            1  \n",
       "...               ...               ...          ...  \n",
       "7453210             0                 0            2  \n",
       "7453211             0                 0            4  \n",
       "7453212             0                 0            2  \n",
       "7453213             0                36            2  \n",
       "7453214             0                 0            4  \n",
       "\n",
       "[14595137 rows x 31 columns]>"
      ]
     },
     "execution_count": 11,
     "metadata": {},
     "output_type": "execute_result"
    }
   ],
   "source": [
    "flight_delay.dropna"
   ]
  },
  {
   "cell_type": "markdown",
   "id": "af72242a",
   "metadata": {},
   "source": [
    "Finding categorical and Numerical variables in the dataset"
   ]
  },
  {
   "cell_type": "code",
   "execution_count": 12,
   "id": "994c85c9",
   "metadata": {},
   "outputs": [
    {
     "data": {
      "text/plain": [
       "Index(['Year', 'Month', 'DayofMonth', 'DayOfWeek', 'DepTime', 'CRSDepTime',\n",
       "       'ArrTime', 'CRSArrTime', 'FlightNum', 'ActualElapsedTime',\n",
       "       'CRSElapsedTime', 'AirTime', 'ArrDelay', 'DepDelay', 'Distance',\n",
       "       'TaxiIn', 'TaxiOut', 'Cancelled', 'Diverted', 'CarrierDelay',\n",
       "       'WeatherDelay', 'NASDelay', 'SecurityDelay', 'LateAircraftDelay'],\n",
       "      dtype='object')"
      ]
     },
     "execution_count": 12,
     "metadata": {},
     "output_type": "execute_result"
    }
   ],
   "source": [
    "numeric_features_1 = d_26.select_dtypes(include=[np.number])\n",
    "\n",
    "numeric_features_1.columns"
   ]
  },
  {
   "cell_type": "code",
   "execution_count": 13,
   "id": "39e27578",
   "metadata": {},
   "outputs": [
    {
     "name": "stderr",
     "output_type": "stream",
     "text": [
      "C:\\Users\\haysh\\AppData\\Local\\Temp\\ipykernel_22964\\2114755668.py:1: DeprecationWarning: `np.object` is a deprecated alias for the builtin `object`. To silence this warning, use `object` by itself. Doing this will not modify any behavior and is safe. \n",
      "Deprecated in NumPy 1.20; for more details and guidance: https://numpy.org/devdocs/release/1.20.0-notes.html#deprecations\n",
      "  categorical_features = d_27.select_dtypes(include=[np.object])\n"
     ]
    },
    {
     "data": {
      "text/plain": [
       "Index(['UniqueCarrier', 'TailNum', 'Origin', 'Dest', 'CancellationCode'], dtype='object')"
      ]
     },
     "execution_count": 13,
     "metadata": {},
     "output_type": "execute_result"
    }
   ],
   "source": [
    "categorical_features = d_27.select_dtypes(include=[np.object])\n",
    "\n",
    "categorical_features.columns"
   ]
  },
  {
   "cell_type": "markdown",
   "id": "b86f3a82",
   "metadata": {},
   "source": [
    "Identifying Outliers and Removing them"
   ]
  },
  {
   "cell_type": "code",
   "execution_count": 14,
   "id": "f3e6b1d4",
   "metadata": {},
   "outputs": [],
   "source": [
    "from collections import Counter"
   ]
  },
  {
   "cell_type": "code",
   "execution_count": 15,
   "id": "cea2aa8f",
   "metadata": {},
   "outputs": [
    {
     "name": "stdout",
     "output_type": "stream",
     "text": [
      "Total number of outliers is: 731324\n"
     ]
    }
   ],
   "source": [
    "def IQR_method (df,n,features):\n",
    "    \n",
    "    #Takes a dataframe and returns an index list corresponding to the observations \n",
    "    #containing more than n outliers according to the Tukey IQR method.\n",
    "    #\n",
    "    outlier_list = []\n",
    "    \n",
    "    for column in features:\n",
    "                \n",
    "        # 1st quartile (25%)\n",
    "        Q1 = np.percentile(numeric_features_1[column], 25)\n",
    "        # 3rd quartile (75%)\n",
    "        Q3 = np.percentile(numeric_features_1[column],75)\n",
    "        \n",
    "        # Interquartile range (IQR)\n",
    "        IQR = Q3 - Q1\n",
    "         # outlier step\n",
    "        outlier_step = 1.5 * IQR\n",
    "        \n",
    "        # Determining a list of indices of outliers\n",
    "        outlier_list_column = numeric_features_1[(numeric_features_1[column] < Q1 - outlier_step) | (numeric_features_1[column] > Q3 + outlier_step )].index\n",
    "        \n",
    "        # appending the list of outliers \n",
    "        outlier_list.extend(outlier_list_column)\n",
    "        \n",
    "    # selecting observations containing more than x outliers\n",
    "    \n",
    "    outlier_list = Counter(outlier_list)        \n",
    "    multiple_outliers = list( k for k, v in outlier_list.items() if v > n )\n",
    "    \n",
    "    # Calculate the number of records below and above lower and above bound value respectively\n",
    "    df1 = numeric_features_1[numeric_features_1[column] < Q1 - outlier_step]\n",
    "    df2 = numeric_features_1[numeric_features_1[column] > Q3 + outlier_step]\n",
    "    \n",
    "    print('Total number of outliers is:', df1.shape[0]+df2.shape[0])\n",
    "    \n",
    "    return multiple_outliers\n",
    "\n",
    "# detecting outliers\n",
    "Outliers_IQR = IQR_method(numeric_features_1,1,numeric_features_1.columns)\n",
    "\n",
    "# dropping outliers\n",
    "flight_delay = numeric_features_1.drop(Outliers_IQR, axis = 0).reset_index(drop=True)"
   ]
  },
  {
   "cell_type": "markdown",
   "id": "6fbd91a1",
   "metadata": {},
   "source": [
    "Creating the correlation matrix"
   ]
  },
  {
   "cell_type": "code",
   "execution_count": 16,
   "id": "4e45d03a",
   "metadata": {
    "scrolled": true
   },
   "outputs": [
    {
     "data": {
      "image/png": "[encoded data removed]",
      "text/plain": [
       "<Figure size 1008x864 with 2 Axes>"
      ]
     },
     "metadata": {},
     "output_type": "display_data"
    }
   ],
   "source": [
    "f , ax = plt.subplots(figsize = (14,12))\n",
    "correlation_matrix= sns.heatmap(flight_delay.corr(),linecolor=\"black\")"
   ]
  },
  {
   "cell_type": "markdown",
   "id": "d0d2ebaf",
   "metadata": {},
   "source": [
    "Taking a sample of 65000 from the dataset"
   ]
  },
  {
   "cell_type": "code",
   "execution_count": 17,
   "id": "84b1cf58",
   "metadata": {},
   "outputs": [
    {
     "data": {
      "text/plain": [
       "<bound method DataFrame.dropna of          Year  Month  DayofMonth  DayOfWeek  DepTime  CRSDepTime  ArrTime  \\\n",
       "4826336  2006     10           1          7   2127.0        2115   2236.0   \n",
       "2335715  2006      5          23          2   1820.0        1824   2026.0   \n",
       "1055524  2006      3          24          5    655.0         700    707.0   \n",
       "903278   2006      2          13          1   2117.0        2125   2347.0   \n",
       "3327505  2006      7          11          2   1214.0        1218   1342.0   \n",
       "...       ...    ...         ...        ...      ...         ...      ...   \n",
       "3295999  2006      7          18          2   1315.0        1223   1440.0   \n",
       "6072901  2006     12          24          7    930.0         933   1040.0   \n",
       "2753201  2006      6          12          1   1344.0        1340   1937.0   \n",
       "3498071  2006      7           1          6   1213.0        1215   1409.0   \n",
       "3980243  2006      8          18          5   1032.0        1035   1154.0   \n",
       "\n",
       "         CRSArrTime  FlightNum  ActualElapsedTime  ...  Distance  TaxiIn  \\\n",
       "4826336        2230       1300               69.0  ...       370       5   \n",
       "2335715        2038       4217               66.0  ...       296       4   \n",
       "1055524         730        571               72.0  ...       402       3   \n",
       "903278         2355        445              150.0  ...       956       6   \n",
       "3327505        1350       3028               88.0  ...       267      10   \n",
       "...             ...        ...                ...  ...       ...     ...   \n",
       "3295999        1357       4887              145.0  ...       906       5   \n",
       "6072901        1052        435               70.0  ...       366       3   \n",
       "2753201        1932        964              233.0  ...      1754       7   \n",
       "3498071        1414        756              116.0  ...       585      10   \n",
       "3980243        1140       2435              142.0  ...       606       5   \n",
       "\n",
       "         TaxiOut  Cancelled  Diverted  CarrierDelay  WeatherDelay  NASDelay  \\\n",
       "4826336        6          0         0             0             0         0   \n",
       "2335715       13          0         0             0             0         0   \n",
       "1055524        9          0         0             0             0         0   \n",
       "903278        12          0         0             0             0         0   \n",
       "3327505        6          0         0             0             0         0   \n",
       "...          ...        ...       ...           ...           ...       ...   \n",
       "3295999       16          0         0            43             0         0   \n",
       "6072901       14          0         0             0             0         0   \n",
       "2753201       14          0         0             0             0         0   \n",
       "3498071       10          0         0             0             0         0   \n",
       "3980243       37          0         0             0             0         0   \n",
       "\n",
       "         SecurityDelay  LateAircraftDelay  \n",
       "4826336              0                  0  \n",
       "2335715              0                  0  \n",
       "1055524              0                  0  \n",
       "903278               0                  0  \n",
       "3327505              0                  0  \n",
       "...                ...                ...  \n",
       "3295999              0                  0  \n",
       "6072901              0                  0  \n",
       "2753201              0                  0  \n",
       "3498071              0                  0  \n",
       "3980243              0                  0  \n",
       "\n",
       "[65000 rows x 24 columns]>"
      ]
     },
     "execution_count": 17,
     "metadata": {},
     "output_type": "execute_result"
    }
   ],
   "source": [
    "df = flight_delay.sample(n = 65000)\n",
    "df.dropna"
   ]
  },
  {
   "cell_type": "markdown",
   "id": "dac8406c",
   "metadata": {},
   "source": [
    "After checking the correlation matrix, getting the required variables for the model"
   ]
  },
  {
   "cell_type": "code",
   "execution_count": 18,
   "id": "c32bf9cf",
   "metadata": {},
   "outputs": [
    {
     "data": {
      "text/html": [
       "<div>\n",
       "<style scoped>\n",
       "    .dataframe tbody tr th:only-of-type {\n",
       "        vertical-align: middle;\n",
       "    }\n",
       "\n",
       "    .dataframe tbody tr th {\n",
       "        vertical-align: top;\n",
       "    }\n",
       "\n",
       "    .dataframe thead th {\n",
       "        text-align: right;\n",
       "    }\n",
       "</style>\n",
       "<table border=\"1\" class=\"dataframe\">\n",
       "  <thead>\n",
       "    <tr style=\"text-align: right;\">\n",
       "      <th></th>\n",
       "      <th>Year</th>\n",
       "      <th>Month</th>\n",
       "      <th>DayofMonth</th>\n",
       "      <th>DayOfWeek</th>\n",
       "      <th>DepTime</th>\n",
       "      <th>CRSDepTime</th>\n",
       "      <th>ArrTime</th>\n",
       "      <th>CRSArrTime</th>\n",
       "      <th>FlightNum</th>\n",
       "      <th>ActualElapsedTime</th>\n",
       "      <th>...</th>\n",
       "      <th>Distance</th>\n",
       "      <th>TaxiIn</th>\n",
       "      <th>TaxiOut</th>\n",
       "      <th>Cancelled</th>\n",
       "      <th>Diverted</th>\n",
       "      <th>CarrierDelay</th>\n",
       "      <th>WeatherDelay</th>\n",
       "      <th>NASDelay</th>\n",
       "      <th>SecurityDelay</th>\n",
       "      <th>LateAircraftDelay</th>\n",
       "    </tr>\n",
       "  </thead>\n",
       "  <tbody>\n",
       "    <tr>\n",
       "      <th>4826336</th>\n",
       "      <td>2006</td>\n",
       "      <td>10</td>\n",
       "      <td>1</td>\n",
       "      <td>7</td>\n",
       "      <td>2127.0</td>\n",
       "      <td>2115</td>\n",
       "      <td>2236.0</td>\n",
       "      <td>2230</td>\n",
       "      <td>1300</td>\n",
       "      <td>69.0</td>\n",
       "      <td>...</td>\n",
       "      <td>370</td>\n",
       "      <td>5</td>\n",
       "      <td>6</td>\n",
       "      <td>0</td>\n",
       "      <td>0</td>\n",
       "      <td>0</td>\n",
       "      <td>0</td>\n",
       "      <td>0</td>\n",
       "      <td>0</td>\n",
       "      <td>0</td>\n",
       "    </tr>\n",
       "    <tr>\n",
       "      <th>2335715</th>\n",
       "      <td>2006</td>\n",
       "      <td>5</td>\n",
       "      <td>23</td>\n",
       "      <td>2</td>\n",
       "      <td>1820.0</td>\n",
       "      <td>1824</td>\n",
       "      <td>2026.0</td>\n",
       "      <td>2038</td>\n",
       "      <td>4217</td>\n",
       "      <td>66.0</td>\n",
       "      <td>...</td>\n",
       "      <td>296</td>\n",
       "      <td>4</td>\n",
       "      <td>13</td>\n",
       "      <td>0</td>\n",
       "      <td>0</td>\n",
       "      <td>0</td>\n",
       "      <td>0</td>\n",
       "      <td>0</td>\n",
       "      <td>0</td>\n",
       "      <td>0</td>\n",
       "    </tr>\n",
       "    <tr>\n",
       "      <th>1055524</th>\n",
       "      <td>2006</td>\n",
       "      <td>3</td>\n",
       "      <td>24</td>\n",
       "      <td>5</td>\n",
       "      <td>655.0</td>\n",
       "      <td>700</td>\n",
       "      <td>707.0</td>\n",
       "      <td>730</td>\n",
       "      <td>571</td>\n",
       "      <td>72.0</td>\n",
       "      <td>...</td>\n",
       "      <td>402</td>\n",
       "      <td>3</td>\n",
       "      <td>9</td>\n",
       "      <td>0</td>\n",
       "      <td>0</td>\n",
       "      <td>0</td>\n",
       "      <td>0</td>\n",
       "      <td>0</td>\n",
       "      <td>0</td>\n",
       "      <td>0</td>\n",
       "    </tr>\n",
       "    <tr>\n",
       "      <th>903278</th>\n",
       "      <td>2006</td>\n",
       "      <td>2</td>\n",
       "      <td>13</td>\n",
       "      <td>1</td>\n",
       "      <td>2117.0</td>\n",
       "      <td>2125</td>\n",
       "      <td>2347.0</td>\n",
       "      <td>2355</td>\n",
       "      <td>445</td>\n",
       "      <td>150.0</td>\n",
       "      <td>...</td>\n",
       "      <td>956</td>\n",
       "      <td>6</td>\n",
       "      <td>12</td>\n",
       "      <td>0</td>\n",
       "      <td>0</td>\n",
       "      <td>0</td>\n",
       "      <td>0</td>\n",
       "      <td>0</td>\n",
       "      <td>0</td>\n",
       "      <td>0</td>\n",
       "    </tr>\n",
       "    <tr>\n",
       "      <th>3327505</th>\n",
       "      <td>2006</td>\n",
       "      <td>7</td>\n",
       "      <td>11</td>\n",
       "      <td>2</td>\n",
       "      <td>1214.0</td>\n",
       "      <td>1218</td>\n",
       "      <td>1342.0</td>\n",
       "      <td>1350</td>\n",
       "      <td>3028</td>\n",
       "      <td>88.0</td>\n",
       "      <td>...</td>\n",
       "      <td>267</td>\n",
       "      <td>10</td>\n",
       "      <td>6</td>\n",
       "      <td>0</td>\n",
       "      <td>0</td>\n",
       "      <td>0</td>\n",
       "      <td>0</td>\n",
       "      <td>0</td>\n",
       "      <td>0</td>\n",
       "      <td>0</td>\n",
       "    </tr>\n",
       "    <tr>\n",
       "      <th>...</th>\n",
       "      <td>...</td>\n",
       "      <td>...</td>\n",
       "      <td>...</td>\n",
       "      <td>...</td>\n",
       "      <td>...</td>\n",
       "      <td>...</td>\n",
       "      <td>...</td>\n",
       "      <td>...</td>\n",
       "      <td>...</td>\n",
       "      <td>...</td>\n",
       "      <td>...</td>\n",
       "      <td>...</td>\n",
       "      <td>...</td>\n",
       "      <td>...</td>\n",
       "      <td>...</td>\n",
       "      <td>...</td>\n",
       "      <td>...</td>\n",
       "      <td>...</td>\n",
       "      <td>...</td>\n",
       "      <td>...</td>\n",
       "      <td>...</td>\n",
       "    </tr>\n",
       "    <tr>\n",
       "      <th>3295999</th>\n",
       "      <td>2006</td>\n",
       "      <td>7</td>\n",
       "      <td>18</td>\n",
       "      <td>2</td>\n",
       "      <td>1315.0</td>\n",
       "      <td>1223</td>\n",
       "      <td>1440.0</td>\n",
       "      <td>1357</td>\n",
       "      <td>4887</td>\n",
       "      <td>145.0</td>\n",
       "      <td>...</td>\n",
       "      <td>906</td>\n",
       "      <td>5</td>\n",
       "      <td>16</td>\n",
       "      <td>0</td>\n",
       "      <td>0</td>\n",
       "      <td>43</td>\n",
       "      <td>0</td>\n",
       "      <td>0</td>\n",
       "      <td>0</td>\n",
       "      <td>0</td>\n",
       "    </tr>\n",
       "    <tr>\n",
       "      <th>6072901</th>\n",
       "      <td>2006</td>\n",
       "      <td>12</td>\n",
       "      <td>24</td>\n",
       "      <td>7</td>\n",
       "      <td>930.0</td>\n",
       "      <td>933</td>\n",
       "      <td>1040.0</td>\n",
       "      <td>1052</td>\n",
       "      <td>435</td>\n",
       "      <td>70.0</td>\n",
       "      <td>...</td>\n",
       "      <td>366</td>\n",
       "      <td>3</td>\n",
       "      <td>14</td>\n",
       "      <td>0</td>\n",
       "      <td>0</td>\n",
       "      <td>0</td>\n",
       "      <td>0</td>\n",
       "      <td>0</td>\n",
       "      <td>0</td>\n",
       "      <td>0</td>\n",
       "    </tr>\n",
       "    <tr>\n",
       "      <th>2753201</th>\n",
       "      <td>2006</td>\n",
       "      <td>6</td>\n",
       "      <td>12</td>\n",
       "      <td>1</td>\n",
       "      <td>1344.0</td>\n",
       "      <td>1340</td>\n",
       "      <td>1937.0</td>\n",
       "      <td>1932</td>\n",
       "      <td>964</td>\n",
       "      <td>233.0</td>\n",
       "      <td>...</td>\n",
       "      <td>1754</td>\n",
       "      <td>7</td>\n",
       "      <td>14</td>\n",
       "      <td>0</td>\n",
       "      <td>0</td>\n",
       "      <td>0</td>\n",
       "      <td>0</td>\n",
       "      <td>0</td>\n",
       "      <td>0</td>\n",
       "      <td>0</td>\n",
       "    </tr>\n",
       "    <tr>\n",
       "      <th>3498071</th>\n",
       "      <td>2006</td>\n",
       "      <td>7</td>\n",
       "      <td>1</td>\n",
       "      <td>6</td>\n",
       "      <td>1213.0</td>\n",
       "      <td>1215</td>\n",
       "      <td>1409.0</td>\n",
       "      <td>1414</td>\n",
       "      <td>756</td>\n",
       "      <td>116.0</td>\n",
       "      <td>...</td>\n",
       "      <td>585</td>\n",
       "      <td>10</td>\n",
       "      <td>10</td>\n",
       "      <td>0</td>\n",
       "      <td>0</td>\n",
       "      <td>0</td>\n",
       "      <td>0</td>\n",
       "      <td>0</td>\n",
       "      <td>0</td>\n",
       "      <td>0</td>\n",
       "    </tr>\n",
       "    <tr>\n",
       "      <th>3980243</th>\n",
       "      <td>2006</td>\n",
       "      <td>8</td>\n",
       "      <td>18</td>\n",
       "      <td>5</td>\n",
       "      <td>1032.0</td>\n",
       "      <td>1035</td>\n",
       "      <td>1154.0</td>\n",
       "      <td>1140</td>\n",
       "      <td>2435</td>\n",
       "      <td>142.0</td>\n",
       "      <td>...</td>\n",
       "      <td>606</td>\n",
       "      <td>5</td>\n",
       "      <td>37</td>\n",
       "      <td>0</td>\n",
       "      <td>0</td>\n",
       "      <td>0</td>\n",
       "      <td>0</td>\n",
       "      <td>0</td>\n",
       "      <td>0</td>\n",
       "      <td>0</td>\n",
       "    </tr>\n",
       "  </tbody>\n",
       "</table>\n",
       "<p>65000 rows × 24 columns</p>\n",
       "</div>"
      ],
      "text/plain": [
       "         Year  Month  DayofMonth  DayOfWeek  DepTime  CRSDepTime  ArrTime  \\\n",
       "4826336  2006     10           1          7   2127.0        2115   2236.0   \n",
       "2335715  2006      5          23          2   1820.0        1824   2026.0   \n",
       "1055524  2006      3          24          5    655.0         700    707.0   \n",
       "903278   2006      2          13          1   2117.0        2125   2347.0   \n",
       "3327505  2006      7          11          2   1214.0        1218   1342.0   \n",
       "...       ...    ...         ...        ...      ...         ...      ...   \n",
       "3295999  2006      7          18          2   1315.0        1223   1440.0   \n",
       "6072901  2006     12          24          7    930.0         933   1040.0   \n",
       "2753201  2006      6          12          1   1344.0        1340   1937.0   \n",
       "3498071  2006      7           1          6   1213.0        1215   1409.0   \n",
       "3980243  2006      8          18          5   1032.0        1035   1154.0   \n",
       "\n",
       "         CRSArrTime  FlightNum  ActualElapsedTime  ...  Distance  TaxiIn  \\\n",
       "4826336        2230       1300               69.0  ...       370       5   \n",
       "2335715        2038       4217               66.0  ...       296       4   \n",
       "1055524         730        571               72.0  ...       402       3   \n",
       "903278         2355        445              150.0  ...       956       6   \n",
       "3327505        1350       3028               88.0  ...       267      10   \n",
       "...             ...        ...                ...  ...       ...     ...   \n",
       "3295999        1357       4887              145.0  ...       906       5   \n",
       "6072901        1052        435               70.0  ...       366       3   \n",
       "2753201        1932        964              233.0  ...      1754       7   \n",
       "3498071        1414        756              116.0  ...       585      10   \n",
       "3980243        1140       2435              142.0  ...       606       5   \n",
       "\n",
       "         TaxiOut  Cancelled  Diverted  CarrierDelay  WeatherDelay  NASDelay  \\\n",
       "4826336        6          0         0             0             0         0   \n",
       "2335715       13          0         0             0             0         0   \n",
       "1055524        9          0         0             0             0         0   \n",
       "903278        12          0         0             0             0         0   \n",
       "3327505        6          0         0             0             0         0   \n",
       "...          ...        ...       ...           ...           ...       ...   \n",
       "3295999       16          0         0            43             0         0   \n",
       "6072901       14          0         0             0             0         0   \n",
       "2753201       14          0         0             0             0         0   \n",
       "3498071       10          0         0             0             0         0   \n",
       "3980243       37          0         0             0             0         0   \n",
       "\n",
       "         SecurityDelay  LateAircraftDelay  \n",
       "4826336              0                  0  \n",
       "2335715              0                  0  \n",
       "1055524              0                  0  \n",
       "903278               0                  0  \n",
       "3327505              0                  0  \n",
       "...                ...                ...  \n",
       "3295999              0                  0  \n",
       "6072901              0                  0  \n",
       "2753201              0                  0  \n",
       "3498071              0                  0  \n",
       "3980243              0                  0  \n",
       "\n",
       "[65000 rows x 24 columns]"
      ]
     },
     "execution_count": 18,
     "metadata": {},
     "output_type": "execute_result"
    }
   ],
   "source": [
    "df"
   ]
  },
  {
   "cell_type": "code",
   "execution_count": 19,
   "id": "32dbeff3",
   "metadata": {
    "scrolled": true
   },
   "outputs": [],
   "source": [
    "df1 = df[['Month','DayOfWeek','CRSDepTime','CRSArrTime','DepDelay','ArrDelay','CRSElapsedTime']]"
   ]
  },
  {
   "cell_type": "code",
   "execution_count": 20,
   "id": "692418e1",
   "metadata": {},
   "outputs": [
    {
     "data": {
      "text/plain": [
       "Month                0\n",
       "DayOfWeek            0\n",
       "CRSDepTime           0\n",
       "CRSArrTime           0\n",
       "DepDelay          1288\n",
       "ArrDelay          1423\n",
       "CRSElapsedTime       0\n",
       "dtype: int64"
      ]
     },
     "execution_count": 20,
     "metadata": {},
     "output_type": "execute_result"
    }
   ],
   "source": [
    "df1.isnull().sum()"
   ]
  },
  {
   "cell_type": "code",
   "execution_count": 21,
   "id": "c9ff762b",
   "metadata": {},
   "outputs": [],
   "source": [
    "df1 = df1[pd.notnull(df1['ArrDelay'])]"
   ]
  },
  {
   "cell_type": "code",
   "execution_count": 22,
   "id": "edd69f36",
   "metadata": {},
   "outputs": [
    {
     "data": {
      "text/plain": [
       "Month             0\n",
       "DayOfWeek         0\n",
       "CRSDepTime        0\n",
       "CRSArrTime        0\n",
       "DepDelay          0\n",
       "ArrDelay          0\n",
       "CRSElapsedTime    0\n",
       "dtype: int64"
      ]
     },
     "execution_count": 22,
     "metadata": {},
     "output_type": "execute_result"
    }
   ],
   "source": [
    "df1.isnull().sum()"
   ]
  },
  {
   "cell_type": "markdown",
   "id": "8e608839",
   "metadata": {},
   "source": [
    "Dropping Null values"
   ]
  },
  {
   "cell_type": "code",
   "execution_count": 23,
   "id": "2d1ac399",
   "metadata": {
    "scrolled": true
   },
   "outputs": [
    {
     "data": {
      "text/html": [
       "<div>\n",
       "<style scoped>\n",
       "    .dataframe tbody tr th:only-of-type {\n",
       "        vertical-align: middle;\n",
       "    }\n",
       "\n",
       "    .dataframe tbody tr th {\n",
       "        vertical-align: top;\n",
       "    }\n",
       "\n",
       "    .dataframe thead th {\n",
       "        text-align: right;\n",
       "    }\n",
       "</style>\n",
       "<table border=\"1\" class=\"dataframe\">\n",
       "  <thead>\n",
       "    <tr style=\"text-align: right;\">\n",
       "      <th></th>\n",
       "      <th>Month</th>\n",
       "      <th>DayOfWeek</th>\n",
       "      <th>CRSDepTime</th>\n",
       "      <th>CRSArrTime</th>\n",
       "      <th>DepDelay</th>\n",
       "      <th>ArrDelay</th>\n",
       "      <th>CRSElapsedTime</th>\n",
       "    </tr>\n",
       "  </thead>\n",
       "  <tbody>\n",
       "    <tr>\n",
       "      <th>4826336</th>\n",
       "      <td>10</td>\n",
       "      <td>7</td>\n",
       "      <td>2115</td>\n",
       "      <td>2230</td>\n",
       "      <td>12.0</td>\n",
       "      <td>6.0</td>\n",
       "      <td>75.0</td>\n",
       "    </tr>\n",
       "    <tr>\n",
       "      <th>2335715</th>\n",
       "      <td>5</td>\n",
       "      <td>2</td>\n",
       "      <td>1824</td>\n",
       "      <td>2038</td>\n",
       "      <td>-4.0</td>\n",
       "      <td>-12.0</td>\n",
       "      <td>74.0</td>\n",
       "    </tr>\n",
       "    <tr>\n",
       "      <th>1055524</th>\n",
       "      <td>3</td>\n",
       "      <td>5</td>\n",
       "      <td>700</td>\n",
       "      <td>730</td>\n",
       "      <td>-5.0</td>\n",
       "      <td>-23.0</td>\n",
       "      <td>90.0</td>\n",
       "    </tr>\n",
       "    <tr>\n",
       "      <th>903278</th>\n",
       "      <td>2</td>\n",
       "      <td>1</td>\n",
       "      <td>2125</td>\n",
       "      <td>2355</td>\n",
       "      <td>-8.0</td>\n",
       "      <td>-8.0</td>\n",
       "      <td>150.0</td>\n",
       "    </tr>\n",
       "    <tr>\n",
       "      <th>3327505</th>\n",
       "      <td>7</td>\n",
       "      <td>2</td>\n",
       "      <td>1218</td>\n",
       "      <td>1350</td>\n",
       "      <td>-4.0</td>\n",
       "      <td>-8.0</td>\n",
       "      <td>92.0</td>\n",
       "    </tr>\n",
       "    <tr>\n",
       "      <th>...</th>\n",
       "      <td>...</td>\n",
       "      <td>...</td>\n",
       "      <td>...</td>\n",
       "      <td>...</td>\n",
       "      <td>...</td>\n",
       "      <td>...</td>\n",
       "      <td>...</td>\n",
       "    </tr>\n",
       "    <tr>\n",
       "      <th>3295999</th>\n",
       "      <td>7</td>\n",
       "      <td>2</td>\n",
       "      <td>1223</td>\n",
       "      <td>1357</td>\n",
       "      <td>52.0</td>\n",
       "      <td>43.0</td>\n",
       "      <td>154.0</td>\n",
       "    </tr>\n",
       "    <tr>\n",
       "      <th>6072901</th>\n",
       "      <td>12</td>\n",
       "      <td>7</td>\n",
       "      <td>933</td>\n",
       "      <td>1052</td>\n",
       "      <td>-3.0</td>\n",
       "      <td>-12.0</td>\n",
       "      <td>79.0</td>\n",
       "    </tr>\n",
       "    <tr>\n",
       "      <th>2753201</th>\n",
       "      <td>6</td>\n",
       "      <td>1</td>\n",
       "      <td>1340</td>\n",
       "      <td>1932</td>\n",
       "      <td>4.0</td>\n",
       "      <td>5.0</td>\n",
       "      <td>232.0</td>\n",
       "    </tr>\n",
       "    <tr>\n",
       "      <th>3498071</th>\n",
       "      <td>7</td>\n",
       "      <td>6</td>\n",
       "      <td>1215</td>\n",
       "      <td>1414</td>\n",
       "      <td>-2.0</td>\n",
       "      <td>-5.0</td>\n",
       "      <td>119.0</td>\n",
       "    </tr>\n",
       "    <tr>\n",
       "      <th>3980243</th>\n",
       "      <td>8</td>\n",
       "      <td>5</td>\n",
       "      <td>1035</td>\n",
       "      <td>1140</td>\n",
       "      <td>-3.0</td>\n",
       "      <td>14.0</td>\n",
       "      <td>125.0</td>\n",
       "    </tr>\n",
       "  </tbody>\n",
       "</table>\n",
       "<p>63577 rows × 7 columns</p>\n",
       "</div>"
      ],
      "text/plain": [
       "         Month  DayOfWeek  CRSDepTime  CRSArrTime  DepDelay  ArrDelay  \\\n",
       "4826336     10          7        2115        2230      12.0       6.0   \n",
       "2335715      5          2        1824        2038      -4.0     -12.0   \n",
       "1055524      3          5         700         730      -5.0     -23.0   \n",
       "903278       2          1        2125        2355      -8.0      -8.0   \n",
       "3327505      7          2        1218        1350      -4.0      -8.0   \n",
       "...        ...        ...         ...         ...       ...       ...   \n",
       "3295999      7          2        1223        1357      52.0      43.0   \n",
       "6072901     12          7         933        1052      -3.0     -12.0   \n",
       "2753201      6          1        1340        1932       4.0       5.0   \n",
       "3498071      7          6        1215        1414      -2.0      -5.0   \n",
       "3980243      8          5        1035        1140      -3.0      14.0   \n",
       "\n",
       "         CRSElapsedTime  \n",
       "4826336            75.0  \n",
       "2335715            74.0  \n",
       "1055524            90.0  \n",
       "903278            150.0  \n",
       "3327505            92.0  \n",
       "...                 ...  \n",
       "3295999           154.0  \n",
       "6072901            79.0  \n",
       "2753201           232.0  \n",
       "3498071           119.0  \n",
       "3980243           125.0  \n",
       "\n",
       "[63577 rows x 7 columns]"
      ]
     },
     "execution_count": 23,
     "metadata": {},
     "output_type": "execute_result"
    }
   ],
   "source": [
    "df1.dropna()"
   ]
  },
  {
   "cell_type": "code",
   "execution_count": 24,
   "id": "08ccd076",
   "metadata": {},
   "outputs": [
    {
     "data": {
      "text/html": [
       "<div>\n",
       "<style scoped>\n",
       "    .dataframe tbody tr th:only-of-type {\n",
       "        vertical-align: middle;\n",
       "    }\n",
       "\n",
       "    .dataframe tbody tr th {\n",
       "        vertical-align: top;\n",
       "    }\n",
       "\n",
       "    .dataframe thead th {\n",
       "        text-align: right;\n",
       "    }\n",
       "</style>\n",
       "<table border=\"1\" class=\"dataframe\">\n",
       "  <thead>\n",
       "    <tr style=\"text-align: right;\">\n",
       "      <th></th>\n",
       "      <th>Month</th>\n",
       "      <th>DayOfWeek</th>\n",
       "      <th>CRSDepTime</th>\n",
       "      <th>CRSArrTime</th>\n",
       "      <th>DepDelay</th>\n",
       "      <th>ArrDelay</th>\n",
       "      <th>CRSElapsedTime</th>\n",
       "    </tr>\n",
       "  </thead>\n",
       "  <tbody>\n",
       "    <tr>\n",
       "      <th>4826336</th>\n",
       "      <td>10</td>\n",
       "      <td>7</td>\n",
       "      <td>2115</td>\n",
       "      <td>2230</td>\n",
       "      <td>12.0</td>\n",
       "      <td>6.0</td>\n",
       "      <td>75.0</td>\n",
       "    </tr>\n",
       "    <tr>\n",
       "      <th>2335715</th>\n",
       "      <td>5</td>\n",
       "      <td>2</td>\n",
       "      <td>1824</td>\n",
       "      <td>2038</td>\n",
       "      <td>-4.0</td>\n",
       "      <td>-12.0</td>\n",
       "      <td>74.0</td>\n",
       "    </tr>\n",
       "    <tr>\n",
       "      <th>1055524</th>\n",
       "      <td>3</td>\n",
       "      <td>5</td>\n",
       "      <td>700</td>\n",
       "      <td>730</td>\n",
       "      <td>-5.0</td>\n",
       "      <td>-23.0</td>\n",
       "      <td>90.0</td>\n",
       "    </tr>\n",
       "    <tr>\n",
       "      <th>903278</th>\n",
       "      <td>2</td>\n",
       "      <td>1</td>\n",
       "      <td>2125</td>\n",
       "      <td>2355</td>\n",
       "      <td>-8.0</td>\n",
       "      <td>-8.0</td>\n",
       "      <td>150.0</td>\n",
       "    </tr>\n",
       "    <tr>\n",
       "      <th>3327505</th>\n",
       "      <td>7</td>\n",
       "      <td>2</td>\n",
       "      <td>1218</td>\n",
       "      <td>1350</td>\n",
       "      <td>-4.0</td>\n",
       "      <td>-8.0</td>\n",
       "      <td>92.0</td>\n",
       "    </tr>\n",
       "    <tr>\n",
       "      <th>...</th>\n",
       "      <td>...</td>\n",
       "      <td>...</td>\n",
       "      <td>...</td>\n",
       "      <td>...</td>\n",
       "      <td>...</td>\n",
       "      <td>...</td>\n",
       "      <td>...</td>\n",
       "    </tr>\n",
       "    <tr>\n",
       "      <th>3295999</th>\n",
       "      <td>7</td>\n",
       "      <td>2</td>\n",
       "      <td>1223</td>\n",
       "      <td>1357</td>\n",
       "      <td>52.0</td>\n",
       "      <td>43.0</td>\n",
       "      <td>154.0</td>\n",
       "    </tr>\n",
       "    <tr>\n",
       "      <th>6072901</th>\n",
       "      <td>12</td>\n",
       "      <td>7</td>\n",
       "      <td>933</td>\n",
       "      <td>1052</td>\n",
       "      <td>-3.0</td>\n",
       "      <td>-12.0</td>\n",
       "      <td>79.0</td>\n",
       "    </tr>\n",
       "    <tr>\n",
       "      <th>2753201</th>\n",
       "      <td>6</td>\n",
       "      <td>1</td>\n",
       "      <td>1340</td>\n",
       "      <td>1932</td>\n",
       "      <td>4.0</td>\n",
       "      <td>5.0</td>\n",
       "      <td>232.0</td>\n",
       "    </tr>\n",
       "    <tr>\n",
       "      <th>3498071</th>\n",
       "      <td>7</td>\n",
       "      <td>6</td>\n",
       "      <td>1215</td>\n",
       "      <td>1414</td>\n",
       "      <td>-2.0</td>\n",
       "      <td>-5.0</td>\n",
       "      <td>119.0</td>\n",
       "    </tr>\n",
       "    <tr>\n",
       "      <th>3980243</th>\n",
       "      <td>8</td>\n",
       "      <td>5</td>\n",
       "      <td>1035</td>\n",
       "      <td>1140</td>\n",
       "      <td>-3.0</td>\n",
       "      <td>14.0</td>\n",
       "      <td>125.0</td>\n",
       "    </tr>\n",
       "  </tbody>\n",
       "</table>\n",
       "<p>63577 rows × 7 columns</p>\n",
       "</div>"
      ],
      "text/plain": [
       "         Month  DayOfWeek  CRSDepTime  CRSArrTime  DepDelay  ArrDelay  \\\n",
       "4826336     10          7        2115        2230      12.0       6.0   \n",
       "2335715      5          2        1824        2038      -4.0     -12.0   \n",
       "1055524      3          5         700         730      -5.0     -23.0   \n",
       "903278       2          1        2125        2355      -8.0      -8.0   \n",
       "3327505      7          2        1218        1350      -4.0      -8.0   \n",
       "...        ...        ...         ...         ...       ...       ...   \n",
       "3295999      7          2        1223        1357      52.0      43.0   \n",
       "6072901     12          7         933        1052      -3.0     -12.0   \n",
       "2753201      6          1        1340        1932       4.0       5.0   \n",
       "3498071      7          6        1215        1414      -2.0      -5.0   \n",
       "3980243      8          5        1035        1140      -3.0      14.0   \n",
       "\n",
       "         CRSElapsedTime  \n",
       "4826336            75.0  \n",
       "2335715            74.0  \n",
       "1055524            90.0  \n",
       "903278            150.0  \n",
       "3327505            92.0  \n",
       "...                 ...  \n",
       "3295999           154.0  \n",
       "6072901            79.0  \n",
       "2753201           232.0  \n",
       "3498071           119.0  \n",
       "3980243           125.0  \n",
       "\n",
       "[63577 rows x 7 columns]"
      ]
     },
     "execution_count": 24,
     "metadata": {},
     "output_type": "execute_result"
    }
   ],
   "source": [
    "df1"
   ]
  },
  {
   "cell_type": "markdown",
   "id": "93f755a1",
   "metadata": {},
   "source": [
    "Defining dependent variable and independent variables"
   ]
  },
  {
   "cell_type": "code",
   "execution_count": 25,
   "id": "81d0f64d",
   "metadata": {},
   "outputs": [],
   "source": [
    "X= df1[[\"Month\", \"DayOfWeek\", \"CRSDepTime\", \"CRSArrTime\",\"DepDelay\", \"CRSElapsedTime\"]]\n",
    "y = df1['ArrDelay']"
   ]
  },
  {
   "cell_type": "code",
   "execution_count": 26,
   "id": "1d2bcec3",
   "metadata": {},
   "outputs": [
    {
     "data": {
      "text/html": [
       "<div>\n",
       "<style scoped>\n",
       "    .dataframe tbody tr th:only-of-type {\n",
       "        vertical-align: middle;\n",
       "    }\n",
       "\n",
       "    .dataframe tbody tr th {\n",
       "        vertical-align: top;\n",
       "    }\n",
       "\n",
       "    .dataframe thead th {\n",
       "        text-align: right;\n",
       "    }\n",
       "</style>\n",
       "<table border=\"1\" class=\"dataframe\">\n",
       "  <thead>\n",
       "    <tr style=\"text-align: right;\">\n",
       "      <th></th>\n",
       "      <th>Month</th>\n",
       "      <th>DayOfWeek</th>\n",
       "      <th>CRSDepTime</th>\n",
       "      <th>CRSArrTime</th>\n",
       "      <th>DepDelay</th>\n",
       "      <th>CRSElapsedTime</th>\n",
       "    </tr>\n",
       "  </thead>\n",
       "  <tbody>\n",
       "    <tr>\n",
       "      <th>4826336</th>\n",
       "      <td>10</td>\n",
       "      <td>7</td>\n",
       "      <td>2115</td>\n",
       "      <td>2230</td>\n",
       "      <td>12.0</td>\n",
       "      <td>75.0</td>\n",
       "    </tr>\n",
       "    <tr>\n",
       "      <th>2335715</th>\n",
       "      <td>5</td>\n",
       "      <td>2</td>\n",
       "      <td>1824</td>\n",
       "      <td>2038</td>\n",
       "      <td>-4.0</td>\n",
       "      <td>74.0</td>\n",
       "    </tr>\n",
       "    <tr>\n",
       "      <th>1055524</th>\n",
       "      <td>3</td>\n",
       "      <td>5</td>\n",
       "      <td>700</td>\n",
       "      <td>730</td>\n",
       "      <td>-5.0</td>\n",
       "      <td>90.0</td>\n",
       "    </tr>\n",
       "    <tr>\n",
       "      <th>903278</th>\n",
       "      <td>2</td>\n",
       "      <td>1</td>\n",
       "      <td>2125</td>\n",
       "      <td>2355</td>\n",
       "      <td>-8.0</td>\n",
       "      <td>150.0</td>\n",
       "    </tr>\n",
       "    <tr>\n",
       "      <th>3327505</th>\n",
       "      <td>7</td>\n",
       "      <td>2</td>\n",
       "      <td>1218</td>\n",
       "      <td>1350</td>\n",
       "      <td>-4.0</td>\n",
       "      <td>92.0</td>\n",
       "    </tr>\n",
       "    <tr>\n",
       "      <th>...</th>\n",
       "      <td>...</td>\n",
       "      <td>...</td>\n",
       "      <td>...</td>\n",
       "      <td>...</td>\n",
       "      <td>...</td>\n",
       "      <td>...</td>\n",
       "    </tr>\n",
       "    <tr>\n",
       "      <th>3295999</th>\n",
       "      <td>7</td>\n",
       "      <td>2</td>\n",
       "      <td>1223</td>\n",
       "      <td>1357</td>\n",
       "      <td>52.0</td>\n",
       "      <td>154.0</td>\n",
       "    </tr>\n",
       "    <tr>\n",
       "      <th>6072901</th>\n",
       "      <td>12</td>\n",
       "      <td>7</td>\n",
       "      <td>933</td>\n",
       "      <td>1052</td>\n",
       "      <td>-3.0</td>\n",
       "      <td>79.0</td>\n",
       "    </tr>\n",
       "    <tr>\n",
       "      <th>2753201</th>\n",
       "      <td>6</td>\n",
       "      <td>1</td>\n",
       "      <td>1340</td>\n",
       "      <td>1932</td>\n",
       "      <td>4.0</td>\n",
       "      <td>232.0</td>\n",
       "    </tr>\n",
       "    <tr>\n",
       "      <th>3498071</th>\n",
       "      <td>7</td>\n",
       "      <td>6</td>\n",
       "      <td>1215</td>\n",
       "      <td>1414</td>\n",
       "      <td>-2.0</td>\n",
       "      <td>119.0</td>\n",
       "    </tr>\n",
       "    <tr>\n",
       "      <th>3980243</th>\n",
       "      <td>8</td>\n",
       "      <td>5</td>\n",
       "      <td>1035</td>\n",
       "      <td>1140</td>\n",
       "      <td>-3.0</td>\n",
       "      <td>125.0</td>\n",
       "    </tr>\n",
       "  </tbody>\n",
       "</table>\n",
       "<p>63577 rows × 6 columns</p>\n",
       "</div>"
      ],
      "text/plain": [
       "         Month  DayOfWeek  CRSDepTime  CRSArrTime  DepDelay  CRSElapsedTime\n",
       "4826336     10          7        2115        2230      12.0            75.0\n",
       "2335715      5          2        1824        2038      -4.0            74.0\n",
       "1055524      3          5         700         730      -5.0            90.0\n",
       "903278       2          1        2125        2355      -8.0           150.0\n",
       "3327505      7          2        1218        1350      -4.0            92.0\n",
       "...        ...        ...         ...         ...       ...             ...\n",
       "3295999      7          2        1223        1357      52.0           154.0\n",
       "6072901     12          7         933        1052      -3.0            79.0\n",
       "2753201      6          1        1340        1932       4.0           232.0\n",
       "3498071      7          6        1215        1414      -2.0           119.0\n",
       "3980243      8          5        1035        1140      -3.0           125.0\n",
       "\n",
       "[63577 rows x 6 columns]"
      ]
     },
     "execution_count": 26,
     "metadata": {},
     "output_type": "execute_result"
    }
   ],
   "source": [
    "X"
   ]
  },
  {
   "cell_type": "code",
   "execution_count": 27,
   "id": "c8ecdcfa",
   "metadata": {},
   "outputs": [],
   "source": [
    "from matplotlib import pyplot\n",
    "import seaborn"
   ]
  },
  {
   "cell_type": "markdown",
   "id": "f096dc83",
   "metadata": {},
   "source": [
    "Plotting  boxplots"
   ]
  },
  {
   "cell_type": "code",
   "execution_count": 28,
   "id": "7f8fa6a2",
   "metadata": {},
   "outputs": [
    {
     "data": {
      "text/plain": [
       "<AxesSubplot:ylabel='CRSElapsedTime'>"
      ]
     },
     "execution_count": 28,
     "metadata": {},
     "output_type": "execute_result"
    },
    {
     "data": {
      "image/png": "[encoded data removed]",
      "text/plain": [
       "<Figure size 216x360 with 1 Axes>"
      ]
     },
     "metadata": {},
     "output_type": "display_data"
    },
    {
     "data": {
      "image/png": "[encoded data removed]",
      "text/plain": [
       "<Figure size 216x360 with 1 Axes>"
      ]
     },
     "metadata": {},
     "output_type": "display_data"
    },
    {
     "data": {
      "image/png": "[encoded data removed]",
      "text/plain": [
       "<Figure size 216x360 with 1 Axes>"
      ]
     },
     "metadata": {},
     "output_type": "display_data"
    },
    {
     "data": {
      "image/png": "[encoded data removed]",
      "text/plain": [
       "<Figure size 216x360 with 1 Axes>"
      ]
     },
     "metadata": {},
     "output_type": "display_data"
    }
   ],
   "source": [
    "fig, ax = pyplot.subplots(figsize =(3, 5))\n",
    "sns.boxplot( ax = ax, y = df[\"CRSDepTime\"] )\n",
    "\n",
    "fig, ax = pyplot.subplots(figsize =(3, 5))\n",
    "sns.boxplot( ax = ax, y = df[\"CRSArrTime\"] )\n",
    "\n",
    "fig, ax = pyplot.subplots(figsize =(3, 5))\n",
    "sns.boxplot( ax = ax, y = df[\"DepDelay\"] )  \n",
    "\n",
    "fig, ax = pyplot.subplots(figsize =(3, 5))\n",
    "sns.boxplot( ax = ax, y = df[\"CRSElapsedTime\"] )\n",
    "\n",
    "  \n"
   ]
  },
  {
   "cell_type": "code",
   "execution_count": 29,
   "id": "e9b20dac",
   "metadata": {},
   "outputs": [
    {
     "data": {
      "text/plain": [
       "(63577, 6)"
      ]
     },
     "execution_count": 29,
     "metadata": {},
     "output_type": "execute_result"
    }
   ],
   "source": [
    "X.shape"
   ]
  },
  {
   "cell_type": "code",
   "execution_count": 30,
   "id": "2afda88a",
   "metadata": {},
   "outputs": [
    {
     "data": {
      "text/plain": [
       "(63577,)"
      ]
     },
     "execution_count": 30,
     "metadata": {},
     "output_type": "execute_result"
    }
   ],
   "source": [
    "y.shape"
   ]
  },
  {
   "cell_type": "markdown",
   "id": "0a2c7d6a",
   "metadata": {},
   "source": [
    "Splitting the sample set into train set and test set"
   ]
  },
  {
   "cell_type": "code",
   "execution_count": 31,
   "id": "958cad4b",
   "metadata": {},
   "outputs": [],
   "source": [
    "from sklearn.model_selection import train_test_split"
   ]
  },
  {
   "cell_type": "code",
   "execution_count": 32,
   "id": "dc564b56",
   "metadata": {},
   "outputs": [],
   "source": [
    "X_train, X_test, y_train, y_test = train_test_split(X, y, test_size=0.2, random_state=42)"
   ]
  },
  {
   "cell_type": "code",
   "execution_count": 33,
   "id": "7c0ea9d8",
   "metadata": {},
   "outputs": [
    {
     "data": {
      "text/html": [
       "<div>\n",
       "<style scoped>\n",
       "    .dataframe tbody tr th:only-of-type {\n",
       "        vertical-align: middle;\n",
       "    }\n",
       "\n",
       "    .dataframe tbody tr th {\n",
       "        vertical-align: top;\n",
       "    }\n",
       "\n",
       "    .dataframe thead th {\n",
       "        text-align: right;\n",
       "    }\n",
       "</style>\n",
       "<table border=\"1\" class=\"dataframe\">\n",
       "  <thead>\n",
       "    <tr style=\"text-align: right;\">\n",
       "      <th></th>\n",
       "      <th>Month</th>\n",
       "      <th>DayOfWeek</th>\n",
       "      <th>CRSDepTime</th>\n",
       "      <th>CRSArrTime</th>\n",
       "      <th>DepDelay</th>\n",
       "      <th>CRSElapsedTime</th>\n",
       "    </tr>\n",
       "  </thead>\n",
       "  <tbody>\n",
       "    <tr>\n",
       "      <th>4250165</th>\n",
       "      <td>9</td>\n",
       "      <td>6</td>\n",
       "      <td>1020</td>\n",
       "      <td>1102</td>\n",
       "      <td>6.0</td>\n",
       "      <td>42.0</td>\n",
       "    </tr>\n",
       "    <tr>\n",
       "      <th>5738004</th>\n",
       "      <td>12</td>\n",
       "      <td>5</td>\n",
       "      <td>1925</td>\n",
       "      <td>2113</td>\n",
       "      <td>76.0</td>\n",
       "      <td>108.0</td>\n",
       "    </tr>\n",
       "    <tr>\n",
       "      <th>3766869</th>\n",
       "      <td>8</td>\n",
       "      <td>3</td>\n",
       "      <td>1928</td>\n",
       "      <td>2122</td>\n",
       "      <td>0.0</td>\n",
       "      <td>114.0</td>\n",
       "    </tr>\n",
       "    <tr>\n",
       "      <th>2395371</th>\n",
       "      <td>5</td>\n",
       "      <td>7</td>\n",
       "      <td>1833</td>\n",
       "      <td>2024</td>\n",
       "      <td>116.0</td>\n",
       "      <td>171.0</td>\n",
       "    </tr>\n",
       "    <tr>\n",
       "      <th>2198672</th>\n",
       "      <td>5</td>\n",
       "      <td>1</td>\n",
       "      <td>2055</td>\n",
       "      <td>2157</td>\n",
       "      <td>174.0</td>\n",
       "      <td>62.0</td>\n",
       "    </tr>\n",
       "    <tr>\n",
       "      <th>...</th>\n",
       "      <td>...</td>\n",
       "      <td>...</td>\n",
       "      <td>...</td>\n",
       "      <td>...</td>\n",
       "      <td>...</td>\n",
       "      <td>...</td>\n",
       "    </tr>\n",
       "    <tr>\n",
       "      <th>2809362</th>\n",
       "      <td>6</td>\n",
       "      <td>7</td>\n",
       "      <td>1120</td>\n",
       "      <td>1227</td>\n",
       "      <td>-1.0</td>\n",
       "      <td>127.0</td>\n",
       "    </tr>\n",
       "    <tr>\n",
       "      <th>677381</th>\n",
       "      <td>2</td>\n",
       "      <td>1</td>\n",
       "      <td>1755</td>\n",
       "      <td>1948</td>\n",
       "      <td>-4.0</td>\n",
       "      <td>113.0</td>\n",
       "    </tr>\n",
       "    <tr>\n",
       "      <th>4068375</th>\n",
       "      <td>9</td>\n",
       "      <td>1</td>\n",
       "      <td>755</td>\n",
       "      <td>1000</td>\n",
       "      <td>-4.0</td>\n",
       "      <td>65.0</td>\n",
       "    </tr>\n",
       "    <tr>\n",
       "      <th>4390071</th>\n",
       "      <td>9</td>\n",
       "      <td>1</td>\n",
       "      <td>1150</td>\n",
       "      <td>1335</td>\n",
       "      <td>9.0</td>\n",
       "      <td>45.0</td>\n",
       "    </tr>\n",
       "    <tr>\n",
       "      <th>2169783</th>\n",
       "      <td>5</td>\n",
       "      <td>1</td>\n",
       "      <td>1755</td>\n",
       "      <td>1829</td>\n",
       "      <td>-1.0</td>\n",
       "      <td>94.0</td>\n",
       "    </tr>\n",
       "  </tbody>\n",
       "</table>\n",
       "<p>50861 rows × 6 columns</p>\n",
       "</div>"
      ],
      "text/plain": [
       "         Month  DayOfWeek  CRSDepTime  CRSArrTime  DepDelay  CRSElapsedTime\n",
       "4250165      9          6        1020        1102       6.0            42.0\n",
       "5738004     12          5        1925        2113      76.0           108.0\n",
       "3766869      8          3        1928        2122       0.0           114.0\n",
       "2395371      5          7        1833        2024     116.0           171.0\n",
       "2198672      5          1        2055        2157     174.0            62.0\n",
       "...        ...        ...         ...         ...       ...             ...\n",
       "2809362      6          7        1120        1227      -1.0           127.0\n",
       "677381       2          1        1755        1948      -4.0           113.0\n",
       "4068375      9          1         755        1000      -4.0            65.0\n",
       "4390071      9          1        1150        1335       9.0            45.0\n",
       "2169783      5          1        1755        1829      -1.0            94.0\n",
       "\n",
       "[50861 rows x 6 columns]"
      ]
     },
     "execution_count": 33,
     "metadata": {},
     "output_type": "execute_result"
    }
   ],
   "source": [
    "X_train"
   ]
  },
  {
   "cell_type": "markdown",
   "id": "00f4f8df",
   "metadata": {},
   "source": [
    "Standardizing the variables in order to minimise biases such as biases due to different scales used for different variables"
   ]
  },
  {
   "cell_type": "code",
   "execution_count": 34,
   "id": "1a51f2f0",
   "metadata": {},
   "outputs": [],
   "source": [
    "from sklearn.preprocessing import StandardScaler\n",
    "std_scaler = StandardScaler()\n",
    "std_scaler.fit(X_train)\n",
    "#X_train_scaled =std_scaler.fit_transform(X_train)\n",
    "X_train_scaled = std_scaler.transform(X_train)\n",
    "X_test_scaled = std_scaler.transform(X_test)"
   ]
  },
  {
   "cell_type": "code",
   "execution_count": 35,
   "id": "50758738",
   "metadata": {},
   "outputs": [
    {
     "data": {
      "text/plain": [
       "array([[ 0.72492997,  1.02023226, -0.6188684 , -0.77139338,  0.06139236,\n",
       "        -1.21609318],\n",
       "       [ 1.60523421,  0.52017894,  1.3421499 ,  1.35729615,  2.98049151,\n",
       "        -0.23168869],\n",
       "       [ 0.43149522, -0.4799277 ,  1.34865051,  1.3762459 , -0.18881614,\n",
       "        -0.14219737],\n",
       "       ...,\n",
       "       [ 0.72492997, -1.48003435, -1.19308923, -0.98615731, -0.3556218 ,\n",
       "        -0.87304313],\n",
       "       [ 0.72492997, -1.48003435, -0.33717516, -0.28080519,  0.18649661,\n",
       "        -1.17134752],\n",
       "       [-0.44880903, -1.48003435,  0.97378182,  0.75932599, -0.23051755,\n",
       "        -0.44050176]])"
      ]
     },
     "execution_count": 35,
     "metadata": {},
     "output_type": "execute_result"
    }
   ],
   "source": [
    "X_train_scaled"
   ]
  },
  {
   "cell_type": "code",
   "execution_count": 36,
   "id": "4794f4aa",
   "metadata": {},
   "outputs": [],
   "source": [
    "#casting the scaled data to a dataframe\n",
    "X_train = pd.DataFrame(data=X_train_scaled,columns=X.columns)\n",
    "X_test = pd.DataFrame(data=X_test_scaled,columns=X.columns)"
   ]
  },
  {
   "cell_type": "code",
   "execution_count": 37,
   "id": "c9d11e40",
   "metadata": {},
   "outputs": [],
   "source": [
    "from sklearn import datasets, metrics, linear_model\n",
    "from sklearn.metrics import accuracy_score"
   ]
  },
  {
   "cell_type": "markdown",
   "id": "9dcda485",
   "metadata": {},
   "source": [
    "Fitting the model"
   ]
  },
  {
   "cell_type": "code",
   "execution_count": 38,
   "id": "27917870",
   "metadata": {},
   "outputs": [
    {
     "data": {
      "text/plain": [
       "LinearRegression()"
      ]
     },
     "execution_count": 38,
     "metadata": {},
     "output_type": "execute_result"
    }
   ],
   "source": [
    "model = linear_model.LinearRegression()\n",
    "model.fit(X_train_scaled, y_train)"
   ]
  },
  {
   "cell_type": "markdown",
   "id": "c1874015",
   "metadata": {},
   "source": [
    "Finding the coefficients"
   ]
  },
  {
   "cell_type": "code",
   "execution_count": 39,
   "id": "074106b0",
   "metadata": {},
   "outputs": [
    {
     "data": {
      "text/plain": [
       "array([ 1.58866103e-02, -1.87897595e-01, -2.80103605e-01, -1.66093776e-01,\n",
       "        2.28736814e+01, -1.51349579e+00])"
      ]
     },
     "execution_count": 39,
     "metadata": {},
     "output_type": "execute_result"
    }
   ],
   "source": [
    "model.coef_"
   ]
  },
  {
   "cell_type": "markdown",
   "id": "771faaa8",
   "metadata": {},
   "source": [
    "Getting the model intercept"
   ]
  },
  {
   "cell_type": "code",
   "execution_count": 40,
   "id": "14c5e009",
   "metadata": {},
   "outputs": [
    {
     "data": {
      "text/plain": [
       "0.6813865240557605"
      ]
     },
     "execution_count": 40,
     "metadata": {},
     "output_type": "execute_result"
    }
   ],
   "source": [
    "model.intercept_"
   ]
  },
  {
   "cell_type": "code",
   "execution_count": 41,
   "id": "4ed16e7d",
   "metadata": {
    "scrolled": true
   },
   "outputs": [
    {
     "name": "stderr",
     "output_type": "stream",
     "text": [
      "C:\\Users\\haysh\\anaconda3\\lib\\site-packages\\sklearn\\base.py:443: UserWarning: X has feature names, but LinearRegression was fitted without feature names\n",
      "  warnings.warn(\n"
     ]
    }
   ],
   "source": [
    "y_pred = model.predict(X_test)"
   ]
  },
  {
   "cell_type": "code",
   "execution_count": 42,
   "id": "5e177790",
   "metadata": {},
   "outputs": [],
   "source": [
    "from sklearn import datasets, metrics, linear_model"
   ]
  },
  {
   "cell_type": "markdown",
   "id": "8f16f91a",
   "metadata": {},
   "source": [
    "Finding results"
   ]
  },
  {
   "cell_type": "code",
   "execution_count": 43,
   "id": "e2b4a1c6",
   "metadata": {},
   "outputs": [
    {
     "name": "stdout",
     "output_type": "stream",
     "text": [
      "RMSE: 2.6676013857690317\n"
     ]
    }
   ],
   "source": [
    "\n",
    "print(\"RMSE: {}\".format(np.sqrt(metrics.mean_absolute_error(y_test, y_pred))))#lower the better"
   ]
  },
  {
   "cell_type": "code",
   "execution_count": 44,
   "id": "d252ab8f",
   "metadata": {},
   "outputs": [
    {
     "name": "stdout",
     "output_type": "stream",
     "text": [
      "R squared:  0.876\n"
     ]
    }
   ],
   "source": [
    "r2 = metrics.r2_score(y_test, y_pred)\n",
    "print(\"R squared: \", round(r2,3))"
   ]
  },
  {
   "cell_type": "code",
   "execution_count": 45,
   "id": "3d6dbef5",
   "metadata": {},
   "outputs": [
    {
     "data": {
      "text/html": [
       "<div>\n",
       "<style scoped>\n",
       "    .dataframe tbody tr th:only-of-type {\n",
       "        vertical-align: middle;\n",
       "    }\n",
       "\n",
       "    .dataframe tbody tr th {\n",
       "        vertical-align: top;\n",
       "    }\n",
       "\n",
       "    .dataframe thead th {\n",
       "        text-align: right;\n",
       "    }\n",
       "</style>\n",
       "<table border=\"1\" class=\"dataframe\">\n",
       "  <thead>\n",
       "    <tr style=\"text-align: right;\">\n",
       "      <th></th>\n",
       "      <th>Coeffecient</th>\n",
       "    </tr>\n",
       "  </thead>\n",
       "  <tbody>\n",
       "    <tr>\n",
       "      <th>Month</th>\n",
       "      <td>0.015887</td>\n",
       "    </tr>\n",
       "    <tr>\n",
       "      <th>DayOfWeek</th>\n",
       "      <td>-0.187898</td>\n",
       "    </tr>\n",
       "    <tr>\n",
       "      <th>CRSDepTime</th>\n",
       "      <td>-0.280104</td>\n",
       "    </tr>\n",
       "    <tr>\n",
       "      <th>CRSArrTime</th>\n",
       "      <td>-0.166094</td>\n",
       "    </tr>\n",
       "    <tr>\n",
       "      <th>DepDelay</th>\n",
       "      <td>22.873681</td>\n",
       "    </tr>\n",
       "    <tr>\n",
       "      <th>CRSElapsedTime</th>\n",
       "      <td>-1.513496</td>\n",
       "    </tr>\n",
       "  </tbody>\n",
       "</table>\n",
       "</div>"
      ],
      "text/plain": [
       "                Coeffecient\n",
       "Month              0.015887\n",
       "DayOfWeek         -0.187898\n",
       "CRSDepTime        -0.280104\n",
       "CRSArrTime        -0.166094\n",
       "DepDelay          22.873681\n",
       "CRSElapsedTime    -1.513496"
      ]
     },
     "execution_count": 45,
     "metadata": {},
     "output_type": "execute_result"
    }
   ],
   "source": [
    "coeffecients = pd.DataFrame(model.coef_,X.columns)\n",
    "coeffecients.columns = ['Coeffecient']\n",
    "coeffecients"
   ]
  },
  {
   "cell_type": "markdown",
   "id": "63c9d170",
   "metadata": {},
   "source": [
    "Predicting values for y"
   ]
  },
  {
   "cell_type": "code",
   "execution_count": 46,
   "id": "8ef7e4d6",
   "metadata": {
    "scrolled": true
   },
   "outputs": [
    {
     "name": "stderr",
     "output_type": "stream",
     "text": [
      "C:\\Users\\haysh\\anaconda3\\lib\\site-packages\\sklearn\\base.py:443: UserWarning: X has feature names, but LinearRegression was fitted without feature names\n",
      "  warnings.warn(\n"
     ]
    }
   ],
   "source": [
    "y_pred = model.predict(X_test)"
   ]
  },
  {
   "cell_type": "code",
   "execution_count": 47,
   "id": "c98ad9fc",
   "metadata": {},
   "outputs": [
    {
     "name": "stderr",
     "output_type": "stream",
     "text": [
      "C:\\Users\\haysh\\anaconda3\\lib\\site-packages\\seaborn\\distributions.py:2619: FutureWarning: `distplot` is a deprecated function and will be removed in a future version. Please adapt your code to use either `displot` (a figure-level function with similar flexibility) or `histplot` (an axes-level function for histograms).\n",
      "  warnings.warn(msg, FutureWarning)\n"
     ]
    },
    {
     "data": {
      "text/plain": [
       "<AxesSubplot:xlabel='ArrDelay', ylabel='Density'>"
      ]
     },
     "execution_count": 47,
     "metadata": {},
     "output_type": "execute_result"
    },
    {
     "data": {
      "image/png": "[encoded data removed]",
      "text/plain": [
       "<Figure size 432x288 with 1 Axes>"
      ]
     },
     "metadata": {},
     "output_type": "display_data"
    }
   ],
   "source": [
    "sns.distplot(y_test - y_pred,bins=5)"
   ]
  },
  {
   "cell_type": "code",
   "execution_count": 48,
   "id": "8df2ff56",
   "metadata": {},
   "outputs": [],
   "source": [
    "from sklearn.tree import DecisionTreeRegressor\n",
    "from sklearn.ensemble import RandomForestRegressor\n",
    "from sklearn.model_selection import cross_val_score"
   ]
  },
  {
   "cell_type": "code",
   "execution_count": 49,
   "id": "2ced7430",
   "metadata": {},
   "outputs": [
    {
     "name": "stderr",
     "output_type": "stream",
     "text": [
      "C:\\Users\\haysh\\anaconda3\\lib\\site-packages\\sklearn\\ensemble\\_forest.py:396: FutureWarning: Criterion 'mse' was deprecated in v1.0 and will be removed in version 1.2. Use `criterion='squared_error'` which is equivalent.\n",
      "  warn(\n"
     ]
    }
   ],
   "source": [
    "Rf = RandomForestRegressor(n_estimators = 15,\n",
    "                              criterion = 'mse',\n",
    "                              random_state = 20,\n",
    "                              n_jobs = -1)\n",
    "Rf.fit(X_train,y_train)\n",
    "Rf_train_pred = Rf.predict(X_train)\n",
    "Rf_test_pred = Rf.predict(X_test)"
   ]
  },
  {
   "cell_type": "code",
   "execution_count": 50,
   "id": "ed958450",
   "metadata": {},
   "outputs": [],
   "source": [
    "r2 = metrics.r2_score(y_test, y_pred)"
   ]
  },
  {
   "cell_type": "code",
   "execution_count": 51,
   "id": "4ddfb9a7",
   "metadata": {},
   "outputs": [],
   "source": [
    "def evaluation(model):\n",
    "    modelA.fit(X_train, y_train)\n",
    "    y_pred = model.predict(X_test)\n",
    "    print(\"R squared: \", round(r2,3))\n",
    "    print(\"RMSE: {}\".format(np.sqrt(metrics.mean_absolute_error(y_test, y_pred))))"
   ]
  },
  {
   "cell_type": "code",
   "execution_count": 52,
   "id": "b5bdd8df",
   "metadata": {},
   "outputs": [
    {
     "name": "stderr",
     "output_type": "stream",
     "text": [
      "C:\\Users\\haysh\\anaconda3\\lib\\site-packages\\sklearn\\ensemble\\_forest.py:396: FutureWarning: Criterion 'mse' was deprecated in v1.0 and will be removed in version 1.2. Use `criterion='squared_error'` which is equivalent.\n",
      "  warn(\n"
     ]
    },
    {
     "name": "stdout",
     "output_type": "stream",
     "text": [
      "R squared:  0.876\n",
      "RMSE: 2.741624059123175\n"
     ]
    }
   ],
   "source": [
    "modelA = Rf\n",
    "evaluation(Rf)"
   ]
  },
  {
   "cell_type": "code",
   "execution_count": 53,
   "id": "7bd99f2c",
   "metadata": {},
   "outputs": [],
   "source": [
    "from sklearn.tree import DecisionTreeRegressor"
   ]
  },
  {
   "cell_type": "code",
   "execution_count": 54,
   "id": "51a35474",
   "metadata": {},
   "outputs": [],
   "source": [
    "from sklearn.tree import DecisionTreeRegressor\n",
    "dtm = DecisionTreeRegressor(max_depth=4,\n",
    "                           min_samples_split=50)"
   ]
  },
  {
   "cell_type": "code",
   "execution_count": 55,
   "id": "761588a6",
   "metadata": {},
   "outputs": [],
   "source": [
    "def evaluation(model):\n",
    "    modelA.fit(X_train, y_train)\n",
    "    y_pred = dtm.predict(X_test)\n",
    "    print(\"R squared: \", round(r2,3))\n",
    "    print(\"RMSE: {}\".format(np.sqrt(metrics.mean_absolute_error(y_test, y_pred))))"
   ]
  },
  {
   "cell_type": "code",
   "execution_count": 56,
   "id": "cd71eb9d",
   "metadata": {},
   "outputs": [
    {
     "name": "stdout",
     "output_type": "stream",
     "text": [
      "R squared:  0.876\n",
      "RMSE: 2.72188776683963\n"
     ]
    }
   ],
   "source": [
    "modelA = dtm\n",
    "evaluation(dtm)"
   ]
  },
  {
   "cell_type": "code",
   "execution_count": null,
   "id": "cbdd0607",
   "metadata": {},
   "outputs": [],
   "source": []
  }
 ],
 "metadata": {
  "kernelspec": {
   "display_name": "Python 3 (ipykernel)",
   "language": "python",
   "name": "python3"
  },
  "language_info": {
   "codemirror_mode": {
    "name": "ipython",
    "version": 3
   },
   "file_extension": ".py",
   "mimetype": "text/x-python",
   "name": "python",
   "nbconvert_exporter": "python",
   "pygments_lexer": "ipython3",
   "version": "3.9.12"
  }
 },
 "nbformat": 4,
 "nbformat_minor": 5
}
